{
 "cells": [
  {
   "cell_type": "markdown",
   "id": "f133e906",
   "metadata": {
    "slideshow": {
     "slide_type": "slide"
    }
   },
   "source": [
    "# Introduction to Machine Learning"
   ]
  },
  {
   "cell_type": "markdown",
   "id": "27cadf79",
   "metadata": {
    "ExecuteTime": {
     "end_time": "2023-08-19T10:09:40.566622Z",
     "start_time": "2023-08-19T10:09:40.553598Z"
    },
    "slideshow": {
     "slide_type": "slide"
    }
   },
   "source": [
    "**What is Machine Learning?**\n",
    "\n",
    "At its core, machine learning is a way for computers to learn and make decisions from data, without being explicitly programmed for every single task. Imagine you're teaching a computer to recognize different types of fruits. Instead of giving it a long list of rules like \"if it's round and red, it's an apple,\" machine learning lets the computer figure out those rules by itself based on examples you provide.\n",
    "\n",
    "Machine learning involves algorithms – sets of instructions – that learn patterns and relationships in data. These algorithms use these patterns to make predictions, decisions, or classifications on new data they have never seen before.\n",
    "\n",
    "\n",
    "![image](https://media.geeksforgeeks.org/wp-content/uploads/20230413105611/Maachine-Learning.webp)\n",
    "\n",
    "**Applications of Machine Learning:**\n",
    "\n",
    "Machine learning has a wide range of applications in various fields. Here are some beginner-friendly examples to give you an idea:\n",
    "\n",
    "1. **Image and Speech Recognition:** Machine learning is used to create systems that can identify objects or people in images and videos. Think of how your phone recognizes your face to unlock it. It's also used in speech recognition software like virtual assistants (e.g., Siri, Google Assistant).\n",
    "\n",
    "2. **Recommendation Systems:** Ever noticed how streaming platforms suggest movies or songs you might like? That's machine learning at work, analyzing your preferences and making recommendations.\n",
    "\n",
    "3. **Medical Diagnosis:** Machine learning can help doctors analyze medical images (like X-rays or MRIs) to detect diseases or anomalies. It can also predict disease risks based on patient data.\n",
    "\n",
    "4. **Financial Predictions:** Banks and financial institutions use machine learning to predict stock prices, credit risks, and detect fraudulent activities.\n",
    "\n",
    "5. **Natural Language Processing (NLP):** This involves teaching computers to understand and generate human language. Chatbots, language translation services, and sentiment analysis (figuring out if a text expresses positive or negative emotions) are examples.\n",
    "\n",
    "6. **Autonomous Vehicles:** Self-driving cars use machine learning to analyze sensor data and make real-time decisions about driving and navigating safely.\n",
    "\n",
    "7. **Gaming:** Video game developers use machine learning to create intelligent opponents that adapt to your gameplay style.\n",
    "\n",
    "8. **Environmental Monitoring:** Machine learning can analyze data from sensors to monitor pollution levels, predict earthquakes, and track wildlife movement.\n",
    "\n",
    "Note: machine learning has applications in almost every industry you can think of. It's all about using data to teach computers how to do things that were once only possible for humans."
   ]
  },
  {
   "cell_type": "markdown",
   "id": "dca1650e",
   "metadata": {
    "slideshow": {
     "slide_type": "slide"
    }
   },
   "source": [
    "## Software Development vs Machine Learning \n",
    "\n",
    "Let's explore the differences between software development and machine learning.\n",
    "\n",
    "**1.Software Development:**\n",
    "\n",
    "**Definition:** Software development is the process of creating computer programs and applications that perform specific tasks or functions. It involves designing, coding, testing, and maintaining software to meet user needs and solve particular problems.\n",
    "\n",
    "**Focus:** Software development is centered around writing code to create programs that follow a set of predefined instructions. These instructions dictate how the software should work and what it should do.\n",
    "\n",
    "**Key Aspects:**\n",
    "\n",
    "1. **Algorithmic Logic:** Software developers create algorithms (step-by-step instructions) that tell the computer what to do. They use programming languages like Python, Java, C++, etc., to write the code that implements these algorithms.\n",
    "\n",
    "2. **Explicit Instructions:** In traditional software development, you write explicit instructions for the program's behavior. You essentially tell the computer exactly what to do in various situations.\n",
    "\n",
    "3. **Predefined Rules:** The behavior of the software is determined by the code you write. If you want the software to do something differently, you need to modify the code accordingly.\n",
    "\n",
    "4. **Static Behavior:** Traditional software follows the rules and logic programmed into it. It doesn't learn or adapt based on new data or experiences.\n",
    "\n",
    "**2.Machine Learning:**\n",
    "\n",
    "**Definition:** Machine learning involves creating algorithms and models that enable computers to learn from data and make decisions or predictions without being explicitly programmed.\n",
    "\n",
    "**Focus:** Machine learning focuses on enabling computers to improve their performance on a task by learning from data rather than being given explicit instructions.\n",
    "\n",
    "**Key Aspects:**\n",
    "\n",
    "1. **Learning from Data:** In machine learning, the computer learns patterns from data to make predictions or decisions. You provide the algorithm with data and the expected outcomes, and it learns how to make predictions on new, unseen data.\n",
    "\n",
    "2. **Patterns and Relationships:** Machine learning algorithms find patterns, relationships, and trends within data. They learn how different pieces of data relate to each other.\n",
    "\n",
    "3. **Adaptation:** Machine learning models can adapt and improve their predictions over time as they encounter more data. They get better as they learn from more examples.\n",
    "\n",
    "4. **Dynamic Behavior:** Machine learning systems are capable of changing their behavior based on new information. They can adapt to new situations and improve their accuracy with experience.\n",
    "\n",
    "\n",
    "![image](https://vitalflux.com/wp-content/uploads/2019/10/difference-traditional-software-machine-learning-768x531.jpg)\n"
   ]
  },
  {
   "cell_type": "markdown",
   "id": "bd8c863f",
   "metadata": {
    "slideshow": {
     "slide_type": "slide"
    }
   },
   "source": [
    "## Types of Machine Learning \n",
    "\n",
    "### Supervised Machine Learning \n",
    "\n",
    "Supervised learning is a type of machine learning where the algorithm learns from a labeled dataset. In supervised learning, the algorithm is provided with a set of input-output pairs, where the correct outputs (also known as labels or targets) are already known. The goal of supervised learning is to learn a mapping from inputs to outputs so that the algorithm can make accurate predictions or classifications on new, unseen data.\n",
    "\n",
    "![image](https://static.javatpoint.com/tutorial/machine-learning/images/supervised-machine-learning.png)\n",
    "\n",
    "Here's a breakdown of the key components and process of supervised learning:\n",
    "\n",
    "1. **Labeled Data:** In supervised learning, you start with a dataset that includes input data (features) and their corresponding correct outputs (labels). The algorithm learns from this dataset to understand the relationship between the inputs and outputs.\n",
    "\n",
    "2. **Training Phase:** During the training phase, the algorithm processes the labeled data and tries to learn the patterns and relationships present in the data. It adjusts its internal parameters to minimize the difference between its predictions and the actual labels.\n",
    "\n",
    "3. **Learning the Model:** The algorithm learns to create a model, which is essentially a mathematical representation of the relationships between inputs and outputs. This model can be in the form of equations, decision trees, neural networks, or other structures depending on the algorithm used.\n",
    "\n",
    "4. **Prediction Phase:** After the model is trained, you can use it to make predictions on new, unseen data. You input new data into the model, and it produces an output or prediction based on what it learned from the training data.\n",
    "\n",
    "5. **Evaluation:** To assess the accuracy and performance of the model, you test it on a separate set of data that it hasn't seen during training. This evaluation data helps you understand how well the model generalizes to new data and whether it's making accurate predictions.\n",
    "\n",
    "Supervised learning can be further divided into two main categories:\n",
    "\n",
    "1. **Classification:** In classification tasks, the goal is to assign a label or category to input data. For example, classifying emails as spam or not spam, or identifying whether an image contains a cat or a dog.\n",
    "\n",
    "2. **Regression:** In regression tasks, the goal is to predict a continuous numerical value. For instance, predicting house prices based on features like square footage, number of bedrooms, and location.\n"
   ]
  },
  {
   "cell_type": "markdown",
   "id": "9fc7b895",
   "metadata": {
    "slideshow": {
     "slide_type": "slide"
    }
   },
   "source": [
    "#### Common Algorithms in Supervised Learning \n",
    "\n",
    "1. **Linear Regression:**\n",
    "   - Type: Regression\n",
    "   - Description: Linear regression is used for predicting a continuous numerical value. It establishes a linear relationship between the input features and the target output.\n",
    "   - Application: Predicting house prices based on factors like square footage, number of bedrooms, etc.\n",
    "\n",
    "2. **Logistic Regression:**\n",
    "   - Type: Classification\n",
    "   - Description: Despite its name, logistic regression is used for binary classification. It models the probability that a given input belongs to a particular class using a logistic function.\n",
    "   - Application: Email spam detection, medical diagnosis (e.g., presence or absence of a disease).\n",
    "\n",
    "3. **Decision Trees:**\n",
    "   - Type: Classification and Regression\n",
    "   - Description: Decision trees split the input space into segments based on features, leading to a series of decisions that ultimately predict a class or numerical value.\n",
    "   - Application: Customer segmentation, predicting whether a customer will churn (leave) a service.\n",
    "\n",
    "4. **Random Forest:**\n",
    "   - Type: Ensemble (Combines multiple decision trees)\n",
    "   - Description: Random Forest is a collection of decision trees that work together to make predictions. It reduces overfitting and improves accuracy by averaging the predictions of individual trees.\n",
    "   - Application: Credit risk assessment, predicting diseases based on medical data.\n",
    "\n",
    "5. **Support Vector Machines (SVM):**\n",
    "   - Type: Classification (can be extended to regression)\n",
    "   - Description: SVM aims to find a hyperplane that best separates classes in the feature space, maximizing the margin between them.\n",
    "   - Application: Image classification, text categorization, detecting credit card fraud.\n",
    "\n",
    "6. **K-Nearest Neighbors (KNN):**\n",
    "   - Type: Classification and Regression\n",
    "   - Description: KNN is a simple algorithm that classifies or predicts based on the majority class/average of the k-nearest data points in the feature space.\n",
    "   - Application: Recommender systems, image classification, predicting stock prices based on historical data.\n",
    "\n",
    "7. **Gradient Boosting:**\n",
    "   - Type: Ensemble\n",
    "   - Description: Gradient Boosting builds a strong predictive model by combining the predictions of multiple weak models (typically decision trees) sequentially, with each new model correcting the errors of the previous ones.\n",
    "   - Application: Web search ranking, anomaly detection, fraud detection.\n",
    "\n",
    "Note: These are just a few examples of the many algorithms used in supervised learning. Each algorithm has its own strengths and weaknesses, making them suitable for different types of problems and datasets."
   ]
  },
  {
   "cell_type": "markdown",
   "id": "302a5a0a",
   "metadata": {
    "slideshow": {
     "slide_type": "slide"
    }
   },
   "source": [
    "### Unsupervised Machine Learning \n",
    "\n",
    "Unsupervised machine learning is a type of machine learning where the algorithm learns patterns and relationships within a dataset without being provided with explicit labeled outputs.\n",
    "\n",
    "Unlike supervised learning, where the algorithm learns from labeled data with known outcomes, unsupervised learning deals with raw, unstructured data and seeks to find inherent structures or groupings within that data.\n",
    "\n",
    "![image](https://static.javatpoint.com/tutorial/machine-learning/images/clustering-in-machine-learning.png)\n",
    "\n",
    "Here's a breakdown of the key aspects of unsupervised learning:\n",
    "\n",
    "1. **Unlabeled Data:** In unsupervised learning, the algorithm works with data that has no predefined labels or targets. The algorithm aims to identify patterns, similarities, and relationships among the data points.\n",
    "\n",
    "2. **Clustering:** A common task in unsupervised learning is clustering, where the algorithm groups similar data points together based on certain features. The idea is to discover natural clusters or groupings within the data.\n",
    "\n",
    "3. **Dimensionality Reduction:** Another important task is dimensionality reduction. Unsupervised learning algorithms can identify and extract the most important features from the data, reducing its complexity while retaining the most relevant information.\n",
    "\n",
    "4. **Anomaly Detection:** Unsupervised learning can also be used for anomaly detection, where the algorithm identifies data points that deviate significantly from the norm, potentially indicating unusual or interesting events.\n",
    "\n",
    "5. **Discovering Hidden Patterns:** Unsupervised learning is particularly useful when you're dealing with large amounts of data and want to uncover hidden patterns or insights that might not be obvious at first glance.\n",
    "\n",
    "**Applicationss of Unsupervised Learning:**\n",
    "\n",
    "1. **Customer Segmentation:** If you have data on customer behavior and demographics but no predefined groups, unsupervised learning can help identify segments of customers with similar characteristics.\n",
    "\n",
    "2. **Topic Modeling:** Unsupervised learning can be used to automatically identify topics in a collection of documents. This is often seen in applications like content categorization and recommendation systems.\n",
    "\n",
    "3. **Image Compression:** Techniques like PCA can reduce the dimensionality of image data, making it possible to represent images with fewer variables while maintaining important visual information.\n",
    "\n",
    "4. **Anomaly Detection:** Unsupervised learning algorithms can learn the normal patterns in data and identify instances that deviate from these patterns, making them useful for fraud detection and network security.\n",
    "\n",
    "5. **Gene Expression Analysis:** In bioinformatics, unsupervised learning is used to analyze gene expression data to identify groups of genes that behave similarly under certain conditions.\n"
   ]
  },
  {
   "cell_type": "markdown",
   "id": "63e4d631",
   "metadata": {},
   "source": [
    "#### Common Algorithms in Unsupervised Learning\n",
    "\n",
    "1. **K-Means Clustering:**\n",
    "   - Description: K-Means is a popular clustering algorithm that divides data points into 'k' clusters based on their similarity to cluster centroids.\n",
    "   - Application: Customer segmentation, image compression, document categorization.\n",
    "\n",
    "2. **Hierarchical Clustering:**\n",
    "   - Description: Hierarchical clustering builds a tree-like structure of nested clusters, allowing for a hierarchical organization of data.\n",
    "   - Application: Taxonomy creation, biology (phylogenetic tree construction), social network analysis.\n",
    "\n",
    "3. **Principal Component Analysis (PCA):**\n",
    "   - Description: PCA is a dimensionality reduction technique that transforms high-dimensional data into a lower-dimensional space while retaining as much variance as possible.\n",
    "   - Application: image compression, noise reduction.\n",
    "\n",
    "4. **Anomaly Detection Algorithms (e.g., Isolation Forest, DBSCAN):**\n",
    "   - Description: These algorithms identify data points that differ significantly from the majority of the data, potentially indicating anomalies or outliers.\n",
    "   - Application: Fraud detection, network intrusion detection, industrial equipment monitoring.\n",
    "\n",
    "5. **Latent Dirichlet Allocation (LDA):**\n",
    "   - Description: LDA is a topic modeling algorithm that uncovers hidden topics in a collection of documents and assigns topics to each document.\n",
    "   - Application: Text mining, content recommendation, understanding document themes.\n",
    "\n",
    "\n",
    "Note: Each algorithm has its own strengths and is suitable for different types of data and problem domains. "
   ]
  },
  {
   "cell_type": "markdown",
   "id": "15bc407f",
   "metadata": {},
   "source": [
    "###  Reinforcement Learning\n",
    "\n",
    "Reinforcement learning is a type of machine learning that focuses on training agents to make a sequence of decisions in an environment to maximize a cumulative reward. Reinforcement learning involves learning by interacting with an environment and receiving feedback in the form of rewards or penalties.\n",
    "\n",
    "![image](https://editor.analyticsvidhya.com/uploads/197201.jpg)\n",
    "\n",
    "Key concepts in reinforcement learning:\n",
    "\n",
    "1. **Agent and Environment:** In reinforcement learning, there are two main components: the agent and the environment. The agent is the learner or decision-maker, and the environment is the external system with which the agent interacts.\n",
    "\n",
    "2. **Actions and States:** The agent takes actions in the environment based on its current state. The environment responds with the next state and a reward signal that reflects the quality of the action taken.\n",
    "\n",
    "3. **Rewards and Penalties:** The agent's objective is to learn a policy (a strategy) that maximizes the cumulative reward over time. Positive rewards encourage actions that lead to favorable outcomes, while negative rewards (penalties) discourage actions that result in unfavorable outcomes.\n",
    "\n",
    "4. **Exploration vs. Exploitation:** Reinforcement learning involves a trade-off between exploration (trying new actions to learn about their outcomes) and exploitation (choosing actions that the agent believes will lead to the best cumulative reward).\n",
    "\n",
    "5. **Policy and Value Function:** The policy defines the agent's strategy for selecting actions in various states. The value function estimates the expected cumulative reward that can be obtained from a particular state under a given policy.\n",
    "\n",
    "Applications of reinforcement learning:\n",
    "\n",
    "1. **Game Playing:** Reinforcement learning has been used to train agents to play complex games like chess, Go, and video games, achieving superhuman performance.\n",
    "\n",
    "2. **Robotics:** Robots can learn to perform tasks like walking, picking up objects, and navigating environments by trial and error through reinforcement learning.\n",
    "\n",
    "3. **Autonomous Vehicles:** Reinforcement learning enables self-driving cars to learn driving policies that adapt to different road conditions and traffic situations.\n",
    "\n",
    "4. **Energy Management:** It can be used to optimize energy consumption in smart grids and control systems.\n",
    "\n",
    "Note: It's particularly powerful for tasks that involve sequential decision-making and can lead to sophisticated, adaptive behaviors."
   ]
  },
  {
   "cell_type": "markdown",
   "id": "24bdeae2",
   "metadata": {
    "ExecuteTime": {
     "end_time": "2023-08-19T11:33:05.760569Z",
     "start_time": "2023-08-19T11:33:05.745112Z"
    }
   },
   "source": [
    "## What is Deep Learning\n",
    "\n",
    "Deep learning is a subset of machine learning that involves using **neural networks** with multiple layers (hence the term \"deep\") to learn and represent **complex patterns and features** from data. Deep learning algorithms attempt to simulate the **human brain's structure and functioning**, allowing them to automatically learn hierarchical representations of data directly from raw input.\n",
    "\n",
    "![neural network](https://media.geeksforgeeks.org/wp-content/uploads/20211226150052/kisspngdeeplearningartificialneuralnetworkmachineleneurons5adb77d61591897756916615243325020884.png)\n",
    "\n",
    "Key characteristics of deep learning:\n",
    "\n",
    "1. **Neural Networks with Multiple Layers:** Deep learning models consist of neural networks with multiple hidden layers. Each layer extracts increasingly abstract and complex features from the data.\n",
    "\n",
    "2. **Feature Learning:** Deep learning models can automatically learn features from the raw data, eliminating the need for manual feature engineering, which is often required in traditional machine learning.\n",
    "\n",
    "3. **Large Amounts of Data:** Deep learning algorithms benefit from having large datasets for training, as the increased complexity of models requires substantial amounts of data to generalize effectively.\n",
    "\n",
    "4. **Computational Power:** Deep learning models require significant computational resources for training due to their complex architectures and the vast number of parameters they have.\n",
    "\n",
    "### Applications of deep learning:\n",
    "\n",
    "1. **Image and Video Analysis:** Deep learning has revolutionized image recognition, object detection, facial recognition, and even generating realistic images or videos.\n",
    "\n",
    "2. **Natural Language Processing (NLP):** Deep learning is used in language translation, sentiment analysis, chatbots, and understanding the semantic context of text.\n",
    "\n",
    "3. **Speech Recognition:** Deep learning powers voice assistants and speech-to-text technology, enabling accurate speech recognition and transcription.\n",
    "\n",
    "4. **Autonomous Vehicles:** Deep learning is crucial for self-driving cars, as it helps process sensor data and make real-time decisions based on complex road conditions.\n",
    "\n",
    "5. **Healthcare:** Deep learning assists in medical image analysis, disease diagnosis, drug discovery, and personalized treatment recommendation.\n",
    "\n",
    "6. **Recommendation Systems:** Deep learning algorithms analyze user preferences to make personalized recommendations for products, services, or content.\n",
    "\n",
    "7. **Gaming:** Deep learning enhances game graphics, character behavior, and even generates game content.\n",
    "\n",
    "8. **Finance:** Deep learning is used for predicting stock prices, detecting fraudulent transactions, and credit risk assessment.\n"
   ]
  },
  {
   "cell_type": "markdown",
   "id": "2f1c6193",
   "metadata": {},
   "source": [
    "### Difference between Machine Learning and Deep Learning\n",
    "\n",
    "Machine learning and deep learning are closely related concepts, but there are distinct differences between the two:\n",
    "\n",
    "**1. Depth of Representation:**\n",
    "   - **Machine Learning:** In traditional machine learning, algorithms focus on learning patterns and relationships from data using a predefined set of features and rules. Feature engineering is a crucial step, where humans manually select and design relevant features for the algorithm to work with.\n",
    "   - **Deep Learning:** Deep learning, a subset of machine learning, employs neural networks with multiple hidden layers to automatically learn hierarchical features from raw data. This eliminates much of the need for manual feature engineering, as deep learning models can learn representations directly from the data.\n",
    "\n",
    "**2. Complexity:**\n",
    "   - **Machine Learning:** Traditional machine learning algorithms work well for relatively simple tasks where the relationships between input features and outputs are not too complex.\n",
    "   - **Deep Learning:** Deep learning excels in handling complex tasks that involve intricate patterns and relationships in the data. It can model highly nonlinear functions and capture fine-grained details.\n",
    "\n",
    "**3. Performance:**\n",
    "   - **Machine Learning:** In some cases, traditional machine learning algorithms might achieve good results with well-engineered features and a moderate amount of data.\n",
    "   - **Deep Learning:** Deep learning often requires larger datasets and significant computational resources, but it can deliver state-of-the-art performance on tasks like image recognition, natural language processing, and speech recognition.\n",
    "\n",
    "**4. Feature Extraction:**\n",
    "   - **Machine Learning:** Feature extraction and selection are critical in traditional machine learning. Engineers must decide which features to use, and their quality directly affects algorithm performance.\n",
    "   - **Deep Learning:** Deep learning learns features automatically, which is particularly advantageous when working with raw, unstructured data like images, audio, and text.\n",
    "\n",
    "**5. Interpretability:**\n",
    "   - **Machine Learning:** Some traditional machine learning models, such as decision trees and linear regression, offer better interpretability, meaning it's easier to understand why certain predictions are made.\n",
    "   - **Deep Learning:** Deep learning models can be more challenging to interpret due to their complex architectures and the abstract features they learn. This is a trade-off for their exceptional performance on complex tasks.\n",
    "\n",
    "**6. Domains of Application:**\n",
    "   - **Machine Learning:** Machine learning is used in various fields, such as credit scoring, customer segmentation, and traditional image recognition.\n",
    "   - **Deep Learning:** Deep learning excels in domains like computer vision, speech recognition, natural language understanding, and complex pattern recognition tasks.\n"
   ]
  },
  {
   "cell_type": "markdown",
   "id": "5a62eef8",
   "metadata": {},
   "source": [
    "![image](https://i0.wp.com/semiengineering.com/wp-content/uploads/2018/01/MLvsDL.png)"
   ]
  },
  {
   "cell_type": "markdown",
   "id": "2695bf7a",
   "metadata": {},
   "source": [
    "![image](https://www.davron.net/wp-content/uploads/2019/04/any-questions-1.jpg)"
   ]
  },
  {
   "cell_type": "markdown",
   "id": "92eac6a0",
   "metadata": {},
   "source": [
    "\n",
    "### Group Task\n",
    "\n",
    "- Choose a specific supervised learning algorithm from the list above.\n",
    "- Explain in details how the chosen algorithms works (step by step).\n",
    "- Analyze both the advantages and limitations of the algorithm.\n",
    "- Elaborate on three domains (with examples) where this algorithm can be applied to create solutions in the field of machine learning.\n",
    "\n",
    "Note: Write all details in a word document in a good structured order. The group work will be presented after lunch break.\n",
    "\n"
   ]
  },
  {
   "cell_type": "code",
   "execution_count": null,
   "id": "fac3643b",
   "metadata": {},
   "outputs": [],
   "source": []
  }
 ],
 "metadata": {
  "celltoolbar": "Slideshow",
  "hide_input": false,
  "kernelspec": {
   "display_name": "Python 3 (ipykernel)",
   "language": "python",
   "name": "python3"
  },
  "language_info": {
   "codemirror_mode": {
    "name": "ipython",
    "version": 3
   },
   "file_extension": ".py",
   "mimetype": "text/x-python",
   "name": "python",
   "nbconvert_exporter": "python",
   "pygments_lexer": "ipython3",
   "version": "3.10.7"
  },
  "toc": {
   "base_numbering": 1,
   "nav_menu": {},
   "number_sections": true,
   "sideBar": true,
   "skip_h1_title": false,
   "title_cell": "Table of Contents",
   "title_sidebar": "Contents",
   "toc_cell": false,
   "toc_position": {},
   "toc_section_display": true,
   "toc_window_display": false
  }
 },
 "nbformat": 4,
 "nbformat_minor": 5
}
