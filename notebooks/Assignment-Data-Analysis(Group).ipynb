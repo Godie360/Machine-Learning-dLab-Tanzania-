{
 "cells": [
  {
   "cell_type": "code",
   "execution_count": 1,
   "id": "initial_id",
   "metadata": {
    "ExecuteTime": {
     "end_time": "2023-08-10T11:27:47.149221923Z",
     "start_time": "2023-08-10T11:27:46.585749328Z"
    }
   },
   "outputs": [],
   "source": [
    "import pandas as pd"
   ]
  },
  {
   "cell_type": "code",
   "execution_count": 2,
   "id": "157fa78baef45e8",
   "metadata": {
    "collapsed": false,
    "ExecuteTime": {
     "end_time": "2023-08-10T11:27:51.379133723Z",
     "start_time": "2023-08-10T11:27:51.250155786Z"
    }
   },
   "outputs": [
    {
     "data": {
      "text/plain": "      country  year       uniqueid bank_account location_type  \\\n0       Kenya  2018     uniqueid_1          Yes         Rural   \n1       Kenya  2018     uniqueid_2           No         Rural   \n2       Kenya  2018     uniqueid_3          Yes         Urban   \n3       Kenya  2018     uniqueid_4           No         Rural   \n4       Kenya  2018     uniqueid_5           No         Urban   \n...       ...   ...            ...          ...           ...   \n23519  Uganda  2018  uniqueid_2113           No         Rural   \n23520  Uganda  2018  uniqueid_2114           No         Rural   \n23521  Uganda  2018  uniqueid_2115           No         Rural   \n23522  Uganda  2018  uniqueid_2116           No         Urban   \n23523  Uganda  2018  uniqueid_2117           No         Rural   \n\n      cellphone_access  household_size  age_of_respondent  \\\n0                  Yes               3                 24   \n1                   No               5                 70   \n2                  Yes               5                 26   \n3                  Yes               5                 34   \n4                   No               8                 26   \n...                ...             ...                ...   \n23519              Yes               4                 48   \n23520              Yes               2                 27   \n23521              Yes               5                 27   \n23522              Yes               7                 30   \n23523              Yes              10                 20   \n\n      gender_of_respondent relationship_with_head           marital_status  \\\n0                   Female                 Spouse  Married/Living together   \n1                   Female      Head of Household                  Widowed   \n2                     Male         Other relative     Single/Never Married   \n3                   Female      Head of Household  Married/Living together   \n4                     Male                  Child     Single/Never Married   \n...                    ...                    ...                      ...   \n23519               Female      Head of Household       Divorced/Seperated   \n23520               Female      Head of Household     Single/Never Married   \n23521               Female                 Parent                  Widowed   \n23522               Female                 Parent       Divorced/Seperated   \n23523                 Male                  Child     Single/Never Married   \n\n                       education_level                   job_type  \n0                  Secondary education              Self employed  \n1                  No formal education       Government Dependent  \n2      Vocational/Specialised training              Self employed  \n3                    Primary education  Formally employed Private  \n4                    Primary education        Informally employed  \n...                                ...                        ...  \n23519              No formal education               Other Income  \n23520              Secondary education               Other Income  \n23521                Primary education               Other Income  \n23522              Secondary education              Self employed  \n23523              Secondary education                  No Income  \n\n[23524 rows x 13 columns]",
      "text/html": "<div>\n<style scoped>\n    .dataframe tbody tr th:only-of-type {\n        vertical-align: middle;\n    }\n\n    .dataframe tbody tr th {\n        vertical-align: top;\n    }\n\n    .dataframe thead th {\n        text-align: right;\n    }\n</style>\n<table border=\"1\" class=\"dataframe\">\n  <thead>\n    <tr style=\"text-align: right;\">\n      <th></th>\n      <th>country</th>\n      <th>year</th>\n      <th>uniqueid</th>\n      <th>bank_account</th>\n      <th>location_type</th>\n      <th>cellphone_access</th>\n      <th>household_size</th>\n      <th>age_of_respondent</th>\n      <th>gender_of_respondent</th>\n      <th>relationship_with_head</th>\n      <th>marital_status</th>\n      <th>education_level</th>\n      <th>job_type</th>\n    </tr>\n  </thead>\n  <tbody>\n    <tr>\n      <th>0</th>\n      <td>Kenya</td>\n      <td>2018</td>\n      <td>uniqueid_1</td>\n      <td>Yes</td>\n      <td>Rural</td>\n      <td>Yes</td>\n      <td>3</td>\n      <td>24</td>\n      <td>Female</td>\n      <td>Spouse</td>\n      <td>Married/Living together</td>\n      <td>Secondary education</td>\n      <td>Self employed</td>\n    </tr>\n    <tr>\n      <th>1</th>\n      <td>Kenya</td>\n      <td>2018</td>\n      <td>uniqueid_2</td>\n      <td>No</td>\n      <td>Rural</td>\n      <td>No</td>\n      <td>5</td>\n      <td>70</td>\n      <td>Female</td>\n      <td>Head of Household</td>\n      <td>Widowed</td>\n      <td>No formal education</td>\n      <td>Government Dependent</td>\n    </tr>\n    <tr>\n      <th>2</th>\n      <td>Kenya</td>\n      <td>2018</td>\n      <td>uniqueid_3</td>\n      <td>Yes</td>\n      <td>Urban</td>\n      <td>Yes</td>\n      <td>5</td>\n      <td>26</td>\n      <td>Male</td>\n      <td>Other relative</td>\n      <td>Single/Never Married</td>\n      <td>Vocational/Specialised training</td>\n      <td>Self employed</td>\n    </tr>\n    <tr>\n      <th>3</th>\n      <td>Kenya</td>\n      <td>2018</td>\n      <td>uniqueid_4</td>\n      <td>No</td>\n      <td>Rural</td>\n      <td>Yes</td>\n      <td>5</td>\n      <td>34</td>\n      <td>Female</td>\n      <td>Head of Household</td>\n      <td>Married/Living together</td>\n      <td>Primary education</td>\n      <td>Formally employed Private</td>\n    </tr>\n    <tr>\n      <th>4</th>\n      <td>Kenya</td>\n      <td>2018</td>\n      <td>uniqueid_5</td>\n      <td>No</td>\n      <td>Urban</td>\n      <td>No</td>\n      <td>8</td>\n      <td>26</td>\n      <td>Male</td>\n      <td>Child</td>\n      <td>Single/Never Married</td>\n      <td>Primary education</td>\n      <td>Informally employed</td>\n    </tr>\n    <tr>\n      <th>...</th>\n      <td>...</td>\n      <td>...</td>\n      <td>...</td>\n      <td>...</td>\n      <td>...</td>\n      <td>...</td>\n      <td>...</td>\n      <td>...</td>\n      <td>...</td>\n      <td>...</td>\n      <td>...</td>\n      <td>...</td>\n      <td>...</td>\n    </tr>\n    <tr>\n      <th>23519</th>\n      <td>Uganda</td>\n      <td>2018</td>\n      <td>uniqueid_2113</td>\n      <td>No</td>\n      <td>Rural</td>\n      <td>Yes</td>\n      <td>4</td>\n      <td>48</td>\n      <td>Female</td>\n      <td>Head of Household</td>\n      <td>Divorced/Seperated</td>\n      <td>No formal education</td>\n      <td>Other Income</td>\n    </tr>\n    <tr>\n      <th>23520</th>\n      <td>Uganda</td>\n      <td>2018</td>\n      <td>uniqueid_2114</td>\n      <td>No</td>\n      <td>Rural</td>\n      <td>Yes</td>\n      <td>2</td>\n      <td>27</td>\n      <td>Female</td>\n      <td>Head of Household</td>\n      <td>Single/Never Married</td>\n      <td>Secondary education</td>\n      <td>Other Income</td>\n    </tr>\n    <tr>\n      <th>23521</th>\n      <td>Uganda</td>\n      <td>2018</td>\n      <td>uniqueid_2115</td>\n      <td>No</td>\n      <td>Rural</td>\n      <td>Yes</td>\n      <td>5</td>\n      <td>27</td>\n      <td>Female</td>\n      <td>Parent</td>\n      <td>Widowed</td>\n      <td>Primary education</td>\n      <td>Other Income</td>\n    </tr>\n    <tr>\n      <th>23522</th>\n      <td>Uganda</td>\n      <td>2018</td>\n      <td>uniqueid_2116</td>\n      <td>No</td>\n      <td>Urban</td>\n      <td>Yes</td>\n      <td>7</td>\n      <td>30</td>\n      <td>Female</td>\n      <td>Parent</td>\n      <td>Divorced/Seperated</td>\n      <td>Secondary education</td>\n      <td>Self employed</td>\n    </tr>\n    <tr>\n      <th>23523</th>\n      <td>Uganda</td>\n      <td>2018</td>\n      <td>uniqueid_2117</td>\n      <td>No</td>\n      <td>Rural</td>\n      <td>Yes</td>\n      <td>10</td>\n      <td>20</td>\n      <td>Male</td>\n      <td>Child</td>\n      <td>Single/Never Married</td>\n      <td>Secondary education</td>\n      <td>No Income</td>\n    </tr>\n  </tbody>\n</table>\n<p>23524 rows × 13 columns</p>\n</div>"
     },
     "execution_count": 2,
     "metadata": {},
     "output_type": "execute_result"
    }
   ],
   "source": [
    "data_set = pd.read_csv('data/Data.csv')\n",
    "data_set"
   ]
  },
  {
   "cell_type": "code",
   "execution_count": 3,
   "id": "a255a522302695ee",
   "metadata": {
    "collapsed": false,
    "ExecuteTime": {
     "end_time": "2023-08-10T11:27:54.513024665Z",
     "start_time": "2023-08-10T11:27:54.452812023Z"
    }
   },
   "outputs": [
    {
     "name": "stdout",
     "output_type": "stream",
     "text": [
      "<class 'pandas.core.frame.DataFrame'>\n",
      "RangeIndex: 23524 entries, 0 to 23523\n",
      "Data columns (total 13 columns):\n",
      " #   Column                  Non-Null Count  Dtype \n",
      "---  ------                  --------------  ----- \n",
      " 0   country                 23524 non-null  object\n",
      " 1   year                    23524 non-null  int64 \n",
      " 2   uniqueid                23524 non-null  object\n",
      " 3   bank_account            23524 non-null  object\n",
      " 4   location_type           23524 non-null  object\n",
      " 5   cellphone_access        23524 non-null  object\n",
      " 6   household_size          23524 non-null  int64 \n",
      " 7   age_of_respondent       23524 non-null  int64 \n",
      " 8   gender_of_respondent    23524 non-null  object\n",
      " 9   relationship_with_head  23524 non-null  object\n",
      " 10  marital_status          23524 non-null  object\n",
      " 11  education_level         23524 non-null  object\n",
      " 12  job_type                23524 non-null  object\n",
      "dtypes: int64(3), object(10)\n",
      "memory usage: 2.3+ MB\n"
     ]
    }
   ],
   "source": [
    "data_set.info()"
   ]
  },
  {
   "cell_type": "code",
   "execution_count": 4,
   "id": "58ac39cf28357ad7",
   "metadata": {
    "collapsed": false,
    "ExecuteTime": {
     "end_time": "2023-08-10T11:27:58.198248625Z",
     "start_time": "2023-08-10T11:27:58.155478367Z"
    }
   },
   "outputs": [
    {
     "data": {
      "text/plain": "               year  household_size  age_of_respondent\ncount  23524.000000    23524.000000       23524.000000\nmean    2016.975939        3.797483          38.805220\nstd        0.847371        2.227613          16.520569\nmin     2016.000000        1.000000          16.000000\n25%     2016.000000        2.000000          26.000000\n50%     2017.000000        3.000000          35.000000\n75%     2018.000000        5.000000          49.000000\nmax     2018.000000       21.000000         100.000000",
      "text/html": "<div>\n<style scoped>\n    .dataframe tbody tr th:only-of-type {\n        vertical-align: middle;\n    }\n\n    .dataframe tbody tr th {\n        vertical-align: top;\n    }\n\n    .dataframe thead th {\n        text-align: right;\n    }\n</style>\n<table border=\"1\" class=\"dataframe\">\n  <thead>\n    <tr style=\"text-align: right;\">\n      <th></th>\n      <th>year</th>\n      <th>household_size</th>\n      <th>age_of_respondent</th>\n    </tr>\n  </thead>\n  <tbody>\n    <tr>\n      <th>count</th>\n      <td>23524.000000</td>\n      <td>23524.000000</td>\n      <td>23524.000000</td>\n    </tr>\n    <tr>\n      <th>mean</th>\n      <td>2016.975939</td>\n      <td>3.797483</td>\n      <td>38.805220</td>\n    </tr>\n    <tr>\n      <th>std</th>\n      <td>0.847371</td>\n      <td>2.227613</td>\n      <td>16.520569</td>\n    </tr>\n    <tr>\n      <th>min</th>\n      <td>2016.000000</td>\n      <td>1.000000</td>\n      <td>16.000000</td>\n    </tr>\n    <tr>\n      <th>25%</th>\n      <td>2016.000000</td>\n      <td>2.000000</td>\n      <td>26.000000</td>\n    </tr>\n    <tr>\n      <th>50%</th>\n      <td>2017.000000</td>\n      <td>3.000000</td>\n      <td>35.000000</td>\n    </tr>\n    <tr>\n      <th>75%</th>\n      <td>2018.000000</td>\n      <td>5.000000</td>\n      <td>49.000000</td>\n    </tr>\n    <tr>\n      <th>max</th>\n      <td>2018.000000</td>\n      <td>21.000000</td>\n      <td>100.000000</td>\n    </tr>\n  </tbody>\n</table>\n</div>"
     },
     "execution_count": 4,
     "metadata": {},
     "output_type": "execute_result"
    }
   ],
   "source": [
    "data_set.describe()"
   ]
  },
  {
   "cell_type": "code",
   "execution_count": 5,
   "id": "824280a98aa7fbe3",
   "metadata": {
    "collapsed": false,
    "ExecuteTime": {
     "end_time": "2023-08-10T11:28:05.623878741Z",
     "start_time": "2023-08-10T11:28:05.600314153Z"
    }
   },
   "outputs": [
    {
     "data": {
      "text/plain": "(23524, 13)"
     },
     "execution_count": 5,
     "metadata": {},
     "output_type": "execute_result"
    }
   ],
   "source": [
    "data_set.shape"
   ]
  },
  {
   "cell_type": "code",
   "execution_count": 7,
   "id": "7bd46d185290627e",
   "metadata": {
    "ExecuteTime": {
     "end_time": "2023-08-09T19:56:03.616065409Z",
     "start_time": "2023-08-09T19:56:03.582249092Z"
    },
    "collapsed": false
   },
   "outputs": [
    {
     "data": {
      "text/plain": [
       "country                   0\n",
       "year                      0\n",
       "uniqueid                  0\n",
       "bank_account              0\n",
       "location_type             0\n",
       "cellphone_access          0\n",
       "household_size            0\n",
       "age_of_respondent         0\n",
       "gender_of_respondent      0\n",
       "relationship_with_head    0\n",
       "marital_status            0\n",
       "education_level           0\n",
       "job_type                  0\n",
       "dtype: int64"
      ]
     },
     "execution_count": 7,
     "metadata": {},
     "output_type": "execute_result"
    }
   ],
   "source": [
    "data_set.isnull().sum()"
   ]
  },
  {
   "cell_type": "code",
   "execution_count": 8,
   "id": "8d9a58aaa1be3ea8",
   "metadata": {
    "ExecuteTime": {
     "end_time": "2023-08-09T20:10:20.755973407Z",
     "start_time": "2023-08-09T20:10:20.668098293Z"
    },
    "collapsed": false
   },
   "outputs": [
    {
     "data": {
      "text/plain": [
       "0"
      ]
     },
     "execution_count": 8,
     "metadata": {},
     "output_type": "execute_result"
    }
   ],
   "source": [
    "check_duplicate = data_set.duplicated()\n",
    "check_duplicate.sum()"
   ]
  },
  {
   "cell_type": "code",
   "execution_count": 9,
   "id": "39f5a23d50aa276b",
   "metadata": {
    "ExecuteTime": {
     "end_time": "2023-08-09T20:12:15.457912050Z",
     "start_time": "2023-08-09T20:12:15.415802752Z"
    },
    "collapsed": false
   },
   "outputs": [
    {
     "data": {
      "text/plain": [
       "14789"
      ]
     },
     "execution_count": 9,
     "metadata": {},
     "output_type": "execute_result"
    }
   ],
   "source": [
    "uniqueid_duplicates = data_set['uniqueid'].duplicated()\n",
    "uniqueid_duplicates.sum()"
   ]
  },
  {
   "cell_type": "code",
   "execution_count": 10,
   "id": "65b14847f00d1c35",
   "metadata": {
    "ExecuteTime": {
     "end_time": "2023-08-09T20:17:13.463951513Z",
     "start_time": "2023-08-09T20:17:13.382916267Z"
    },
    "collapsed": false
   },
   "outputs": [
    {
     "data": {
      "text/plain": [
       "(23524, 13)"
      ]
     },
     "execution_count": 10,
     "metadata": {},
     "output_type": "execute_result"
    }
   ],
   "source": [
    "data_set.shape"
   ]
  },
  {
   "cell_type": "code",
   "execution_count": 11,
   "id": "8ad4fee6bc9ed3e3",
   "metadata": {
    "ExecuteTime": {
     "end_time": "2023-08-09T20:22:42.971872656Z",
     "start_time": "2023-08-09T20:22:42.923841476Z"
    },
    "collapsed": false
   },
   "outputs": [
    {
     "data": {
      "text/html": [
       "<div>\n",
       "<style scoped>\n",
       "    .dataframe tbody tr th:only-of-type {\n",
       "        vertical-align: middle;\n",
       "    }\n",
       "\n",
       "    .dataframe tbody tr th {\n",
       "        vertical-align: top;\n",
       "    }\n",
       "\n",
       "    .dataframe thead th {\n",
       "        text-align: right;\n",
       "    }\n",
       "</style>\n",
       "<table border=\"1\" class=\"dataframe\">\n",
       "  <thead>\n",
       "    <tr style=\"text-align: right;\">\n",
       "      <th></th>\n",
       "      <th>country</th>\n",
       "      <th>year</th>\n",
       "      <th>uniqueid</th>\n",
       "      <th>bank_account</th>\n",
       "      <th>location_type</th>\n",
       "      <th>cellphone_access</th>\n",
       "      <th>household_size</th>\n",
       "      <th>age_of_respondent</th>\n",
       "      <th>gender_of_respondent</th>\n",
       "      <th>relationship_with_head</th>\n",
       "      <th>marital_status</th>\n",
       "      <th>education_level</th>\n",
       "      <th>job_type</th>\n",
       "    </tr>\n",
       "  </thead>\n",
       "  <tbody>\n",
       "    <tr>\n",
       "      <th>0</th>\n",
       "      <td>Kenya</td>\n",
       "      <td>2018</td>\n",
       "      <td>uniqueid_1</td>\n",
       "      <td>Yes</td>\n",
       "      <td>Rural</td>\n",
       "      <td>Yes</td>\n",
       "      <td>3</td>\n",
       "      <td>24</td>\n",
       "      <td>Female</td>\n",
       "      <td>Spouse</td>\n",
       "      <td>Married/Living together</td>\n",
       "      <td>Secondary education</td>\n",
       "      <td>Self employed</td>\n",
       "    </tr>\n",
       "    <tr>\n",
       "      <th>1</th>\n",
       "      <td>Kenya</td>\n",
       "      <td>2018</td>\n",
       "      <td>uniqueid_2</td>\n",
       "      <td>No</td>\n",
       "      <td>Rural</td>\n",
       "      <td>No</td>\n",
       "      <td>5</td>\n",
       "      <td>70</td>\n",
       "      <td>Female</td>\n",
       "      <td>Head of Household</td>\n",
       "      <td>Widowed</td>\n",
       "      <td>No formal education</td>\n",
       "      <td>Government Dependent</td>\n",
       "    </tr>\n",
       "    <tr>\n",
       "      <th>2</th>\n",
       "      <td>Kenya</td>\n",
       "      <td>2018</td>\n",
       "      <td>uniqueid_3</td>\n",
       "      <td>Yes</td>\n",
       "      <td>Urban</td>\n",
       "      <td>Yes</td>\n",
       "      <td>5</td>\n",
       "      <td>26</td>\n",
       "      <td>Male</td>\n",
       "      <td>Other relative</td>\n",
       "      <td>Single/Never Married</td>\n",
       "      <td>Vocational/Specialised training</td>\n",
       "      <td>Self employed</td>\n",
       "    </tr>\n",
       "    <tr>\n",
       "      <th>3</th>\n",
       "      <td>Kenya</td>\n",
       "      <td>2018</td>\n",
       "      <td>uniqueid_4</td>\n",
       "      <td>No</td>\n",
       "      <td>Rural</td>\n",
       "      <td>Yes</td>\n",
       "      <td>5</td>\n",
       "      <td>34</td>\n",
       "      <td>Female</td>\n",
       "      <td>Head of Household</td>\n",
       "      <td>Married/Living together</td>\n",
       "      <td>Primary education</td>\n",
       "      <td>Formally employed Private</td>\n",
       "    </tr>\n",
       "    <tr>\n",
       "      <th>4</th>\n",
       "      <td>Kenya</td>\n",
       "      <td>2018</td>\n",
       "      <td>uniqueid_5</td>\n",
       "      <td>No</td>\n",
       "      <td>Urban</td>\n",
       "      <td>No</td>\n",
       "      <td>8</td>\n",
       "      <td>26</td>\n",
       "      <td>Male</td>\n",
       "      <td>Child</td>\n",
       "      <td>Single/Never Married</td>\n",
       "      <td>Primary education</td>\n",
       "      <td>Informally employed</td>\n",
       "    </tr>\n",
       "    <tr>\n",
       "      <th>...</th>\n",
       "      <td>...</td>\n",
       "      <td>...</td>\n",
       "      <td>...</td>\n",
       "      <td>...</td>\n",
       "      <td>...</td>\n",
       "      <td>...</td>\n",
       "      <td>...</td>\n",
       "      <td>...</td>\n",
       "      <td>...</td>\n",
       "      <td>...</td>\n",
       "      <td>...</td>\n",
       "      <td>...</td>\n",
       "      <td>...</td>\n",
       "    </tr>\n",
       "    <tr>\n",
       "      <th>14798</th>\n",
       "      <td>Rwanda</td>\n",
       "      <td>2016</td>\n",
       "      <td>uniqueid_8755</td>\n",
       "      <td>No</td>\n",
       "      <td>Rural</td>\n",
       "      <td>Yes</td>\n",
       "      <td>5</td>\n",
       "      <td>31</td>\n",
       "      <td>Female</td>\n",
       "      <td>Spouse</td>\n",
       "      <td>Married/Living together</td>\n",
       "      <td>Primary education</td>\n",
       "      <td>Farming and Fishing</td>\n",
       "    </tr>\n",
       "    <tr>\n",
       "      <th>14799</th>\n",
       "      <td>Rwanda</td>\n",
       "      <td>2016</td>\n",
       "      <td>uniqueid_8756</td>\n",
       "      <td>No</td>\n",
       "      <td>Rural</td>\n",
       "      <td>No</td>\n",
       "      <td>6</td>\n",
       "      <td>49</td>\n",
       "      <td>Female</td>\n",
       "      <td>Spouse</td>\n",
       "      <td>Married/Living together</td>\n",
       "      <td>No formal education</td>\n",
       "      <td>Remittance Dependent</td>\n",
       "    </tr>\n",
       "    <tr>\n",
       "      <th>14800</th>\n",
       "      <td>Rwanda</td>\n",
       "      <td>2016</td>\n",
       "      <td>uniqueid_8757</td>\n",
       "      <td>No</td>\n",
       "      <td>Rural</td>\n",
       "      <td>Yes</td>\n",
       "      <td>6</td>\n",
       "      <td>42</td>\n",
       "      <td>Female</td>\n",
       "      <td>Spouse</td>\n",
       "      <td>Married/Living together</td>\n",
       "      <td>Primary education</td>\n",
       "      <td>Farming and Fishing</td>\n",
       "    </tr>\n",
       "    <tr>\n",
       "      <th>14801</th>\n",
       "      <td>Rwanda</td>\n",
       "      <td>2016</td>\n",
       "      <td>uniqueid_8758</td>\n",
       "      <td>No</td>\n",
       "      <td>Rural</td>\n",
       "      <td>Yes</td>\n",
       "      <td>6</td>\n",
       "      <td>65</td>\n",
       "      <td>Male</td>\n",
       "      <td>Head of Household</td>\n",
       "      <td>Married/Living together</td>\n",
       "      <td>Primary education</td>\n",
       "      <td>Informally employed</td>\n",
       "    </tr>\n",
       "    <tr>\n",
       "      <th>14802</th>\n",
       "      <td>Rwanda</td>\n",
       "      <td>2016</td>\n",
       "      <td>uniqueid_8759</td>\n",
       "      <td>No</td>\n",
       "      <td>Rural</td>\n",
       "      <td>Yes</td>\n",
       "      <td>6</td>\n",
       "      <td>31</td>\n",
       "      <td>Male</td>\n",
       "      <td>Head of Household</td>\n",
       "      <td>Married/Living together</td>\n",
       "      <td>No formal education</td>\n",
       "      <td>Farming and Fishing</td>\n",
       "    </tr>\n",
       "  </tbody>\n",
       "</table>\n",
       "<p>8735 rows × 13 columns</p>\n",
       "</div>"
      ],
      "text/plain": [
       "      country  year       uniqueid bank_account location_type  \\\n",
       "0       Kenya  2018     uniqueid_1          Yes         Rural   \n",
       "1       Kenya  2018     uniqueid_2           No         Rural   \n",
       "2       Kenya  2018     uniqueid_3          Yes         Urban   \n",
       "3       Kenya  2018     uniqueid_4           No         Rural   \n",
       "4       Kenya  2018     uniqueid_5           No         Urban   \n",
       "...       ...   ...            ...          ...           ...   \n",
       "14798  Rwanda  2016  uniqueid_8755           No         Rural   \n",
       "14799  Rwanda  2016  uniqueid_8756           No         Rural   \n",
       "14800  Rwanda  2016  uniqueid_8757           No         Rural   \n",
       "14801  Rwanda  2016  uniqueid_8758           No         Rural   \n",
       "14802  Rwanda  2016  uniqueid_8759           No         Rural   \n",
       "\n",
       "      cellphone_access  household_size  age_of_respondent  \\\n",
       "0                  Yes               3                 24   \n",
       "1                   No               5                 70   \n",
       "2                  Yes               5                 26   \n",
       "3                  Yes               5                 34   \n",
       "4                   No               8                 26   \n",
       "...                ...             ...                ...   \n",
       "14798              Yes               5                 31   \n",
       "14799               No               6                 49   \n",
       "14800              Yes               6                 42   \n",
       "14801              Yes               6                 65   \n",
       "14802              Yes               6                 31   \n",
       "\n",
       "      gender_of_respondent relationship_with_head           marital_status  \\\n",
       "0                   Female                 Spouse  Married/Living together   \n",
       "1                   Female      Head of Household                  Widowed   \n",
       "2                     Male         Other relative     Single/Never Married   \n",
       "3                   Female      Head of Household  Married/Living together   \n",
       "4                     Male                  Child     Single/Never Married   \n",
       "...                    ...                    ...                      ...   \n",
       "14798               Female                 Spouse  Married/Living together   \n",
       "14799               Female                 Spouse  Married/Living together   \n",
       "14800               Female                 Spouse  Married/Living together   \n",
       "14801                 Male      Head of Household  Married/Living together   \n",
       "14802                 Male      Head of Household  Married/Living together   \n",
       "\n",
       "                       education_level                   job_type  \n",
       "0                  Secondary education              Self employed  \n",
       "1                  No formal education       Government Dependent  \n",
       "2      Vocational/Specialised training              Self employed  \n",
       "3                    Primary education  Formally employed Private  \n",
       "4                    Primary education        Informally employed  \n",
       "...                                ...                        ...  \n",
       "14798                Primary education        Farming and Fishing  \n",
       "14799              No formal education       Remittance Dependent  \n",
       "14800                Primary education        Farming and Fishing  \n",
       "14801                Primary education        Informally employed  \n",
       "14802              No formal education        Farming and Fishing  \n",
       "\n",
       "[8735 rows x 13 columns]"
      ]
     },
     "execution_count": 11,
     "metadata": {},
     "output_type": "execute_result"
    }
   ],
   "source": [
    "clean_data = data_set.drop_duplicates(subset=['uniqueid'])\n",
    "clean_data"
   ]
  },
  {
   "cell_type": "code",
   "execution_count": 12,
   "id": "6c0112c2dc66534b",
   "metadata": {
    "ExecuteTime": {
     "end_time": "2023-08-09T21:05:45.320022900Z",
     "start_time": "2023-08-09T21:05:45.266586420Z"
    },
    "collapsed": false
   },
   "outputs": [
    {
     "data": {
      "text/plain": [
       "(23524, 13)"
      ]
     },
     "execution_count": 12,
     "metadata": {},
     "output_type": "execute_result"
    }
   ],
   "source": [
    "data_set.shape"
   ]
  },
  {
   "cell_type": "markdown",
   "id": "6e61b12751702a02",
   "metadata": {
    "collapsed": false
   },
   "source": [
    "## Analyzing Total Number of People Accord to Country, Gender, Marital status, Location, Bank Account, Job Type, Education level and Telephone Access"
   ]
  },
  {
   "cell_type": "code",
   "execution_count": 13,
   "id": "6f962d02cc551ad",
   "metadata": {
    "ExecuteTime": {
     "end_time": "2023-08-09T21:05:00.496304980Z",
     "start_time": "2023-08-09T21:05:00.404631294Z"
    },
    "collapsed": false
   },
   "outputs": [
    {
     "name": "stdout",
     "output_type": "stream",
     "text": [
      "Kenya = 6068\n",
      "Rwanda = 8735\n",
      "Tanzania = 6620\n",
      "Uganda = 2101\n",
      "\n",
      "**********************************************\n",
      "People With Bank Account\n",
      "Yes = 3312\n",
      "No = 20212\n",
      "\n",
      "**********************************************\n",
      "Gender\n",
      "Female = 13877\n",
      "Male = 9647\n",
      "\n",
      "**********************************************\n",
      "Marital Status\n",
      "Married/Living together = 10749\n",
      "Widowed = 2708\n",
      "Single/Never Married = 7983\n",
      "Divorced/Seperated = 2076\n",
      "Dont know = 8\n",
      "\n",
      "**********************************************\n",
      "Cellphone Access\n",
      "Yes = 17454\n",
      "No = 6070\n",
      "\n",
      "**********************************************\n",
      "Location Type\n",
      "Rural = 14343\n",
      "Urban = 9181\n",
      "\n",
      "**********************************************\n",
      "Education Level\n",
      "Secondary education = 4223\n",
      "No formal education = 4515\n",
      "Vocational/Specialised training = 803\n",
      "Primary education = 12791\n",
      "Tertiary education = 1157\n",
      "Other/Dont know/RTA = 35\n",
      "\n",
      "**********************************************\n",
      "Job Type\n",
      "Self employed = 6437\n",
      "Government Dependent = 247\n",
      "Formally employed Private = 1055\n",
      "Informally employed = 5597\n",
      "Formally employed Government = 387\n",
      "Farming and Fishing = 5441\n",
      "Remittance Dependent = 2527\n",
      "Other Income = 1080\n",
      "Dont Know/Refuse to answer = 126\n",
      "No Income = 627\n"
     ]
    }
   ],
   "source": [
    "all_country = data_set['country'].unique().tolist()\n",
    "for x in all_country:\n",
    "    print(f\"{x} = {data_set['country'].value_counts()[x]}\")\n",
    "print(\"\")    \n",
    "print('*'*46)  \n",
    "bank_account = data_set['bank_account'].unique().tolist()\n",
    "print(\"People With Bank Account\")\n",
    "for x in bank_account:\n",
    "    print(f\"{x} = {data_set['bank_account'].value_counts()[x]}\")\n",
    "    \n",
    "print(\"\")   \n",
    "print('*'*46)  \n",
    "print('Gender')\n",
    "gender = data_set['gender_of_respondent'].unique().tolist()\n",
    "for x in gender:\n",
    "    print(f\"{x} = {data_set['gender_of_respondent'].value_counts()[x]}\")\n",
    "    \n",
    "print(\"\") \n",
    "print(\"*\"*46)  \n",
    "print(\"Marital Status\")\n",
    "marital = data_set['marital_status'].unique().tolist()\n",
    "for x in marital:\n",
    "    print(f\"{x} = {data_set['marital_status'].value_counts()[x]}\")\n",
    "    \n",
    "print(\"\") \n",
    "print(\"*\"*46)  \n",
    "print(\"Cellphone Access\")\n",
    "phones = data_set['cellphone_access'].unique().tolist()\n",
    "for x in phones:\n",
    "    print(f\"{x} = {data_set['cellphone_access'].value_counts()[x]}\")    \n",
    "    \n",
    "print(\"\") \n",
    "print(\"*\"*46)  \n",
    "print(\"Location Type\")\n",
    "location = data_set['location_type'].unique().tolist()\n",
    "for x in location:\n",
    "    print(f\"{x} = {data_set['location_type'].value_counts()[x]}\")    \n",
    "    \n",
    "print(\"\") \n",
    "print(\"*\"*46)  \n",
    "print(\"Education Level\")\n",
    "education = data_set['education_level'].unique().tolist()\n",
    "for x in education:\n",
    "    print(f\"{x} = {data_set['education_level'].value_counts()[x]}\")  \n",
    "    \n",
    "\n",
    "print(\"\") \n",
    "print(\"*\"*46)  \n",
    "print(\"Job Type\")\n",
    "job = data_set['job_type'].unique().tolist()\n",
    "for x in job:\n",
    "    print(f\"{x} = {data_set['job_type'].value_counts()[x]}\")      \n",
    "    \n",
    "    "
   ]
  },
  {
   "cell_type": "code",
   "execution_count": 14,
   "id": "c60e1abb7af686c2",
   "metadata": {
    "ExecuteTime": {
     "end_time": "2023-08-09T21:20:14.258199094Z",
     "start_time": "2023-08-09T21:20:14.211666387Z"
    },
    "collapsed": false
   },
   "outputs": [
    {
     "data": {
      "text/html": [
       "<div>\n",
       "<style scoped>\n",
       "    .dataframe tbody tr th:only-of-type {\n",
       "        vertical-align: middle;\n",
       "    }\n",
       "\n",
       "    .dataframe tbody tr th {\n",
       "        vertical-align: top;\n",
       "    }\n",
       "\n",
       "    .dataframe thead th {\n",
       "        text-align: right;\n",
       "    }\n",
       "</style>\n",
       "<table border=\"1\" class=\"dataframe\">\n",
       "  <thead>\n",
       "    <tr style=\"text-align: right;\">\n",
       "      <th></th>\n",
       "      <th>marital_status</th>\n",
       "    </tr>\n",
       "    <tr>\n",
       "      <th>age_of_respondent</th>\n",
       "      <th></th>\n",
       "    </tr>\n",
       "  </thead>\n",
       "  <tbody>\n",
       "    <tr>\n",
       "      <th>16</th>\n",
       "      <td>462</td>\n",
       "    </tr>\n",
       "    <tr>\n",
       "      <th>17</th>\n",
       "      <td>477</td>\n",
       "    </tr>\n",
       "    <tr>\n",
       "      <th>18</th>\n",
       "      <td>585</td>\n",
       "    </tr>\n",
       "    <tr>\n",
       "      <th>19</th>\n",
       "      <td>470</td>\n",
       "    </tr>\n",
       "    <tr>\n",
       "      <th>20</th>\n",
       "      <td>626</td>\n",
       "    </tr>\n",
       "    <tr>\n",
       "      <th>...</th>\n",
       "      <td>...</td>\n",
       "    </tr>\n",
       "    <tr>\n",
       "      <th>96</th>\n",
       "      <td>3</td>\n",
       "    </tr>\n",
       "    <tr>\n",
       "      <th>97</th>\n",
       "      <td>1</td>\n",
       "    </tr>\n",
       "    <tr>\n",
       "      <th>98</th>\n",
       "      <td>6</td>\n",
       "    </tr>\n",
       "    <tr>\n",
       "      <th>99</th>\n",
       "      <td>2</td>\n",
       "    </tr>\n",
       "    <tr>\n",
       "      <th>100</th>\n",
       "      <td>5</td>\n",
       "    </tr>\n",
       "  </tbody>\n",
       "</table>\n",
       "<p>85 rows × 1 columns</p>\n",
       "</div>"
      ],
      "text/plain": [
       "                   marital_status\n",
       "age_of_respondent                \n",
       "16                            462\n",
       "17                            477\n",
       "18                            585\n",
       "19                            470\n",
       "20                            626\n",
       "...                           ...\n",
       "96                              3\n",
       "97                              1\n",
       "98                              6\n",
       "99                              2\n",
       "100                             5\n",
       "\n",
       "[85 rows x 1 columns]"
      ]
     },
     "execution_count": 14,
     "metadata": {},
     "output_type": "execute_result"
    }
   ],
   "source": [
    "aggregated_data = data_set.groupby('age_of_respondent').agg({'marital_status':'count'})\n",
    "aggregated_data"
   ]
  },
  {
   "cell_type": "code",
   "execution_count": 15,
   "id": "34d895886f91f190",
   "metadata": {
    "ExecuteTime": {
     "end_time": "2023-08-09T21:27:14.871355494Z",
     "start_time": "2023-08-09T21:27:14.826233446Z"
    },
    "collapsed": false
   },
   "outputs": [
    {
     "data": {
      "text/html": [
       "<div>\n",
       "<style scoped>\n",
       "    .dataframe tbody tr th:only-of-type {\n",
       "        vertical-align: middle;\n",
       "    }\n",
       "\n",
       "    .dataframe tbody tr th {\n",
       "        vertical-align: top;\n",
       "    }\n",
       "\n",
       "    .dataframe thead th {\n",
       "        text-align: right;\n",
       "    }\n",
       "</style>\n",
       "<table border=\"1\" class=\"dataframe\">\n",
       "  <thead>\n",
       "    <tr style=\"text-align: right;\">\n",
       "      <th></th>\n",
       "      <th>household_size</th>\n",
       "      <th>range_of_household</th>\n",
       "    </tr>\n",
       "  </thead>\n",
       "  <tbody>\n",
       "    <tr>\n",
       "      <th>10</th>\n",
       "      <td>5</td>\n",
       "      <td>low</td>\n",
       "    </tr>\n",
       "    <tr>\n",
       "      <th>11</th>\n",
       "      <td>3</td>\n",
       "      <td>low</td>\n",
       "    </tr>\n",
       "    <tr>\n",
       "      <th>12</th>\n",
       "      <td>6</td>\n",
       "      <td>low</td>\n",
       "    </tr>\n",
       "    <tr>\n",
       "      <th>13</th>\n",
       "      <td>8</td>\n",
       "      <td>medium</td>\n",
       "    </tr>\n",
       "    <tr>\n",
       "      <th>14</th>\n",
       "      <td>4</td>\n",
       "      <td>low</td>\n",
       "    </tr>\n",
       "    <tr>\n",
       "      <th>...</th>\n",
       "      <td>...</td>\n",
       "      <td>...</td>\n",
       "    </tr>\n",
       "    <tr>\n",
       "      <th>23519</th>\n",
       "      <td>4</td>\n",
       "      <td>low</td>\n",
       "    </tr>\n",
       "    <tr>\n",
       "      <th>23520</th>\n",
       "      <td>2</td>\n",
       "      <td>low</td>\n",
       "    </tr>\n",
       "    <tr>\n",
       "      <th>23521</th>\n",
       "      <td>5</td>\n",
       "      <td>low</td>\n",
       "    </tr>\n",
       "    <tr>\n",
       "      <th>23522</th>\n",
       "      <td>7</td>\n",
       "      <td>low</td>\n",
       "    </tr>\n",
       "    <tr>\n",
       "      <th>23523</th>\n",
       "      <td>10</td>\n",
       "      <td>medium</td>\n",
       "    </tr>\n",
       "  </tbody>\n",
       "</table>\n",
       "<p>23514 rows × 2 columns</p>\n",
       "</div>"
      ],
      "text/plain": [
       "       household_size range_of_household\n",
       "10                  5                low\n",
       "11                  3                low\n",
       "12                  6                low\n",
       "13                  8             medium\n",
       "14                  4                low\n",
       "...               ...                ...\n",
       "23519               4                low\n",
       "23520               2                low\n",
       "23521               5                low\n",
       "23522               7                low\n",
       "23523              10             medium\n",
       "\n",
       "[23514 rows x 2 columns]"
      ]
     },
     "execution_count": 15,
     "metadata": {},
     "output_type": "execute_result"
    }
   ],
   "source": [
    "data_set['range_of_household'] = pd.cut(data_set['household_size'], bins=3, labels=['low', 'medium', 'high']) \n",
    "columns = ['household_size','range_of_household']\n",
    "data_set[columns].tail(-10)"
   ]
  },
  {
   "cell_type": "code",
   "execution_count": 16,
   "id": "80d5e3409c8bf8fc",
   "metadata": {
    "ExecuteTime": {
     "end_time": "2023-08-09T21:27:54.230033724Z",
     "start_time": "2023-08-09T21:27:54.170760920Z"
    },
    "collapsed": false
   },
   "outputs": [
    {
     "data": {
      "text/plain": [
       "(23524, 14)"
      ]
     },
     "execution_count": 16,
     "metadata": {},
     "output_type": "execute_result"
    }
   ],
   "source": [
    "data_set.shape"
   ]
  },
  {
   "cell_type": "code",
   "execution_count": 17,
   "id": "cb60819b0ec4059e",
   "metadata": {
    "ExecuteTime": {
     "end_time": "2023-08-09T21:35:02.730859981Z",
     "start_time": "2023-08-09T21:35:02.673645785Z"
    },
    "collapsed": false
   },
   "outputs": [],
   "source": [
    "import numpy as np"
   ]
  },
  {
   "cell_type": "code",
   "execution_count": 20,
   "id": "33e2859280795999",
   "metadata": {
    "ExecuteTime": {
     "end_time": "2023-08-09T21:52:34.024253153Z",
     "start_time": "2023-08-09T21:52:33.994736884Z"
    },
    "collapsed": false
   },
   "outputs": [
    {
     "data": {
      "text/plain": [
       "(array([    2,     4,    18, ..., 23518, 23520, 23523]),)"
      ]
     },
     "execution_count": 20,
     "metadata": {},
     "output_type": "execute_result"
    }
   ],
   "source": [
    "data = np.where(data_set['marital_status']== 'Single/Never Married' )\n",
    "data2 = np.where(data_set['age_of_respondent'] < 18)\n",
    "data"
   ]
  },
  {
   "cell_type": "code",
   "execution_count": 19,
   "id": "5ba53dc2ea803c9a",
   "metadata": {
    "ExecuteTime": {
     "end_time": "2023-08-09T21:52:39.672238100Z",
     "start_time": "2023-08-09T21:52:39.641750658Z"
    },
    "collapsed": false
   },
   "outputs": [
    {
     "data": {
      "text/plain": [
       "7983"
      ]
     },
     "execution_count": 19,
     "metadata": {},
     "output_type": "execute_result"
    }
   ],
   "source": [
    "len(data[0])"
   ]
  },
  {
   "cell_type": "code",
   "execution_count": null,
   "id": "b3e80d19-bb0e-44e4-b5b7-03750d0af79f",
   "metadata": {},
   "outputs": [],
   "source": []
  }
 ],
 "metadata": {
  "kernelspec": {
   "display_name": "Python 3 (ipykernel)",
   "language": "python",
   "name": "python3"
  },
  "language_info": {
   "codemirror_mode": {
    "name": "ipython",
    "version": 3
   },
   "file_extension": ".py",
   "mimetype": "text/x-python",
   "name": "python",
   "nbconvert_exporter": "python",
   "pygments_lexer": "ipython3",
   "version": "3.10.7"
  }
 },
 "nbformat": 4,
 "nbformat_minor": 5
}
