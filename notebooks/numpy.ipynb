{
 "cells": [
  {
   "cell_type": "code",
   "execution_count": 1,
   "id": "initial_id",
   "metadata": {
    "collapsed": true,
    "ExecuteTime": {
     "end_time": "2023-08-07T18:54:45.999597565Z",
     "start_time": "2023-08-07T18:54:45.800944815Z"
    }
   },
   "outputs": [],
   "source": [
    "import numpy as np"
   ]
  },
  {
   "cell_type": "code",
   "execution_count": 3,
   "outputs": [
    {
     "name": "stdout",
     "output_type": "stream",
     "text": [
      "[1 2 3 4 5 6]\n"
     ]
    }
   ],
   "source": [
    "a = np.array([1,2,3,4,5,6])\n",
    "print(a)"
   ],
   "metadata": {
    "collapsed": false,
    "ExecuteTime": {
     "end_time": "2023-08-07T18:57:16.261640845Z",
     "start_time": "2023-08-07T18:57:16.194864432Z"
    }
   },
   "id": "62a82e77d3bbbf3"
  },
  {
   "cell_type": "code",
   "execution_count": 4,
   "outputs": [
    {
     "data": {
      "text/plain": "1"
     },
     "execution_count": 4,
     "metadata": {},
     "output_type": "execute_result"
    }
   ],
   "source": [
    "a[0]"
   ],
   "metadata": {
    "collapsed": false,
    "ExecuteTime": {
     "end_time": "2023-08-07T18:57:43.615639994Z",
     "start_time": "2023-08-07T18:57:43.590434355Z"
    }
   },
   "id": "792cd1f25157b6c6"
  },
  {
   "cell_type": "code",
   "execution_count": 6,
   "outputs": [
    {
     "data": {
      "text/plain": "6"
     },
     "execution_count": 6,
     "metadata": {},
     "output_type": "execute_result"
    }
   ],
   "source": [
    "a[5]"
   ],
   "metadata": {
    "collapsed": false,
    "ExecuteTime": {
     "end_time": "2023-08-07T18:58:26.269782983Z",
     "start_time": "2023-08-07T18:58:26.206321606Z"
    }
   },
   "id": "f79fc97ea06049c7"
  },
  {
   "cell_type": "code",
   "execution_count": 7,
   "outputs": [],
   "source": [
    "import time\n",
    "import sys"
   ],
   "metadata": {
    "collapsed": false,
    "ExecuteTime": {
     "end_time": "2023-08-07T18:59:16.837425906Z",
     "start_time": "2023-08-07T18:59:16.795068762Z"
    }
   },
   "id": "2fd5ec1de4d0e710"
  },
  {
   "cell_type": "markdown",
   "source": [
    "b =  range(1000)\n",
    "print(sys.getsizeof(5)*len(b))"
   ],
   "metadata": {
    "collapsed": false
   },
   "id": "5acaaea38c400507"
  },
  {
   "cell_type": "code",
   "execution_count": 10,
   "outputs": [
    {
     "name": "stdout",
     "output_type": "stream",
     "text": [
      "8000\n"
     ]
    }
   ],
   "source": [
    "c = np.arange(1000)\n",
    "print(c.size*c.itemsize)"
   ],
   "metadata": {
    "collapsed": false,
    "ExecuteTime": {
     "end_time": "2023-08-07T19:05:11.392756318Z",
     "start_time": "2023-08-07T19:05:11.380618148Z"
    }
   },
   "id": "b6b9c83a42aa4886"
  },
  {
   "cell_type": "markdown",
   "source": [
    " Basic operation"
   ],
   "metadata": {
    "collapsed": false
   },
   "id": "5abca29ca7a6c6a9"
  },
  {
   "cell_type": "code",
   "execution_count": 13,
   "outputs": [
    {
     "name": "stdout",
     "output_type": "stream",
     "text": [
      "[[1 2]\n",
      " [3 4]\n",
      " [5 6]]\n"
     ]
    }
   ],
   "source": [
    "g = np.array([[1,2],[3,4],[5,6]])\n",
    "print(g)"
   ],
   "metadata": {
    "collapsed": false,
    "ExecuteTime": {
     "end_time": "2023-08-07T19:13:43.128299569Z",
     "start_time": "2023-08-07T19:13:42.998984620Z"
    }
   },
   "id": "91799cab8443aea4"
  },
  {
   "cell_type": "code",
   "execution_count": 14,
   "outputs": [
    {
     "data": {
      "text/plain": "2"
     },
     "execution_count": 14,
     "metadata": {},
     "output_type": "execute_result"
    }
   ],
   "source": [
    "g.ndim\n"
   ],
   "metadata": {
    "collapsed": false,
    "ExecuteTime": {
     "end_time": "2023-08-07T19:14:37.641739543Z",
     "start_time": "2023-08-07T19:14:37.526854559Z"
    }
   },
   "id": "5778cb15145b3299"
  },
  {
   "cell_type": "code",
   "execution_count": 15,
   "outputs": [
    {
     "data": {
      "text/plain": "8"
     },
     "execution_count": 15,
     "metadata": {},
     "output_type": "execute_result"
    }
   ],
   "source": [
    "g.itemsize"
   ],
   "metadata": {
    "collapsed": false,
    "ExecuteTime": {
     "end_time": "2023-08-07T19:15:12.400046722Z",
     "start_time": "2023-08-07T19:15:12.369059344Z"
    }
   },
   "id": "f90da23bbd271d52"
  },
  {
   "cell_type": "code",
   "execution_count": 16,
   "outputs": [
    {
     "data": {
      "text/plain": "(6,)"
     },
     "execution_count": 16,
     "metadata": {},
     "output_type": "execute_result"
    }
   ],
   "source": [
    "a.shape"
   ],
   "metadata": {
    "collapsed": false,
    "ExecuteTime": {
     "end_time": "2023-08-07T19:15:57.545813717Z",
     "start_time": "2023-08-07T19:15:57.511678536Z"
    }
   },
   "id": "3bbd1b1d865a2931"
  },
  {
   "cell_type": "code",
   "execution_count": 22,
   "outputs": [
    {
     "data": {
      "text/plain": "6"
     },
     "execution_count": 22,
     "metadata": {},
     "output_type": "execute_result"
    }
   ],
   "source": [
    "a.shape[0]"
   ],
   "metadata": {
    "collapsed": false,
    "ExecuteTime": {
     "end_time": "2023-08-07T19:17:16.958321805Z",
     "start_time": "2023-08-07T19:17:16.908929647Z"
    }
   },
   "id": "73ebf204bfa74b14"
  },
  {
   "cell_type": "code",
   "execution_count": 23,
   "outputs": [
    {
     "data": {
      "text/plain": "array([1, 2, 3, 4, 5, 6])"
     },
     "execution_count": 23,
     "metadata": {},
     "output_type": "execute_result"
    }
   ],
   "source": [
    "a"
   ],
   "metadata": {
    "collapsed": false,
    "ExecuteTime": {
     "end_time": "2023-08-07T19:26:47.851595219Z",
     "start_time": "2023-08-07T19:26:47.829003605Z"
    }
   },
   "id": "dc4437e9271a55"
  },
  {
   "cell_type": "code",
   "execution_count": 24,
   "outputs": [],
   "source": [
    "a = np.array([[1,2],[3,4],[5,6]], dtype=np.float64)"
   ],
   "metadata": {
    "collapsed": false,
    "ExecuteTime": {
     "end_time": "2023-08-07T19:29:45.630034025Z",
     "start_time": "2023-08-07T19:29:45.582111920Z"
    }
   },
   "id": "6758d0cc2e8802a8"
  },
  {
   "cell_type": "code",
   "execution_count": 25,
   "outputs": [
    {
     "data": {
      "text/plain": "array([[1., 2.],\n       [3., 4.],\n       [5., 6.]])"
     },
     "execution_count": 25,
     "metadata": {},
     "output_type": "execute_result"
    }
   ],
   "source": [
    "a"
   ],
   "metadata": {
    "collapsed": false,
    "ExecuteTime": {
     "end_time": "2023-08-07T19:29:51.854404658Z",
     "start_time": "2023-08-07T19:29:51.810455311Z"
    }
   },
   "id": "66755603fa279ba4"
  },
  {
   "cell_type": "code",
   "execution_count": 26,
   "outputs": [
    {
     "data": {
      "text/plain": "(3, 2)"
     },
     "execution_count": 26,
     "metadata": {},
     "output_type": "execute_result"
    }
   ],
   "source": [
    "a.shape"
   ],
   "metadata": {
    "collapsed": false,
    "ExecuteTime": {
     "end_time": "2023-08-07T19:30:13.504135714Z",
     "start_time": "2023-08-07T19:30:13.466549400Z"
    }
   },
   "id": "521bd12bedb19be4"
  },
  {
   "cell_type": "code",
   "execution_count": 27,
   "outputs": [
    {
     "data": {
      "text/plain": "8"
     },
     "execution_count": 27,
     "metadata": {},
     "output_type": "execute_result"
    }
   ],
   "source": [
    "a.itemsize"
   ],
   "metadata": {
    "collapsed": false,
    "ExecuteTime": {
     "end_time": "2023-08-07T19:30:44.355691954Z",
     "start_time": "2023-08-07T19:30:44.293839283Z"
    }
   },
   "id": "d0a8740f5e044fb5"
  },
  {
   "cell_type": "code",
   "execution_count": 29,
   "outputs": [],
   "source": [
    "a = np.array([[1,2],[3,4],[5,6]], dtype=np.complex64)"
   ],
   "metadata": {
    "collapsed": false,
    "ExecuteTime": {
     "end_time": "2023-08-07T19:33:36.361258176Z",
     "start_time": "2023-08-07T19:33:36.345953260Z"
    }
   },
   "id": "7c648835a60f31d1"
  },
  {
   "cell_type": "code",
   "execution_count": 30,
   "outputs": [
    {
     "data": {
      "text/plain": "array([[1.+0.j, 2.+0.j],\n       [3.+0.j, 4.+0.j],\n       [5.+0.j, 6.+0.j]], dtype=complex64)"
     },
     "execution_count": 30,
     "metadata": {},
     "output_type": "execute_result"
    }
   ],
   "source": [
    "a"
   ],
   "metadata": {
    "collapsed": false,
    "ExecuteTime": {
     "end_time": "2023-08-07T19:33:42.208231359Z",
     "start_time": "2023-08-07T19:33:42.160434372Z"
    }
   },
   "id": "f00a7cc56c2937a7"
  },
  {
   "cell_type": "code",
   "execution_count": 32,
   "outputs": [
    {
     "data": {
      "text/plain": "array([[0., 0., 0., 0.],\n       [0., 0., 0., 0.],\n       [0., 0., 0., 0.]])"
     },
     "execution_count": 32,
     "metadata": {},
     "output_type": "execute_result"
    }
   ],
   "source": [
    "np.zeros((3,4))"
   ],
   "metadata": {
    "collapsed": false,
    "ExecuteTime": {
     "end_time": "2023-08-07T19:36:04.971026313Z",
     "start_time": "2023-08-07T19:36:04.958938493Z"
    }
   },
   "id": "d0526426848f08b1"
  },
  {
   "cell_type": "code",
   "execution_count": 33,
   "outputs": [
    {
     "data": {
      "text/plain": "array([0, 1, 2, 3, 4])"
     },
     "execution_count": 33,
     "metadata": {},
     "output_type": "execute_result"
    }
   ],
   "source": [
    "np.arange(5)"
   ],
   "metadata": {
    "collapsed": false,
    "ExecuteTime": {
     "end_time": "2023-08-07T19:37:38.954821587Z",
     "start_time": "2023-08-07T19:37:38.911316358Z"
    }
   },
   "id": "55c51c85ef376389"
  },
  {
   "cell_type": "code",
   "execution_count": 34,
   "outputs": [
    {
     "name": "stdout",
     "output_type": "stream",
     "text": [
      "STRING CONCATENATION EXAMPLE\n",
      "['HabariPython' 'MamboML']\n"
     ]
    }
   ],
   "source": [
    "print(\"STRING CONCATENATION EXAMPLE\")\n",
    "print(np.char.add(['Habari', 'Mambo'], ['Python', 'ML']))"
   ],
   "metadata": {
    "collapsed": false,
    "ExecuteTime": {
     "end_time": "2023-08-07T19:41:34.523652876Z",
     "start_time": "2023-08-07T19:41:34.473863339Z"
    }
   },
   "id": "ddd4265e318b074a"
  },
  {
   "cell_type": "code",
   "execution_count": 35,
   "outputs": [
    {
     "name": "stdout",
     "output_type": "stream",
     "text": [
      "*******Habari*******\n"
     ]
    }
   ],
   "source": [
    "print(np.char.center(\"Habari\", 20, fillchar=\"*\"))"
   ],
   "metadata": {
    "collapsed": false,
    "ExecuteTime": {
     "end_time": "2023-08-07T19:44:10.906462615Z",
     "start_time": "2023-08-07T19:44:10.877714333Z"
    }
   },
   "id": "a316f5300ec5e999"
  },
  {
   "cell_type": "code",
   "execution_count": 36,
   "outputs": [
    {
     "name": "stdout",
     "output_type": "stream",
     "text": [
      "I am python king\n"
     ]
    }
   ],
   "source": [
    "print(np.char.capitalize('i am python king'))"
   ],
   "metadata": {
    "collapsed": false,
    "ExecuteTime": {
     "end_time": "2023-08-07T19:45:24.977024372Z",
     "start_time": "2023-08-07T19:45:24.923278517Z"
    }
   },
   "id": "21fb48f6ee0ccc6d"
  },
  {
   "cell_type": "code",
   "execution_count": 37,
   "outputs": [
    {
     "name": "stdout",
     "output_type": "stream",
     "text": [
      "I AM PYTHON KING\n"
     ]
    }
   ],
   "source": [
    "print(np.char.upper('i am python king'))"
   ],
   "metadata": {
    "collapsed": false,
    "ExecuteTime": {
     "end_time": "2023-08-07T19:45:59.177648999Z",
     "start_time": "2023-08-07T19:45:59.148986092Z"
    }
   },
   "id": "e1ecf55ff68e6e8f"
  },
  {
   "cell_type": "markdown",
   "source": [],
   "metadata": {
    "collapsed": false
   },
   "id": "b1b6fd3f50fafffd"
  },
  {
   "cell_type": "code",
   "execution_count": 38,
   "outputs": [
    {
     "name": "stdout",
     "output_type": "stream",
     "text": [
      "['i', 'am', 'python', 'king']\n"
     ]
    }
   ],
   "source": [
    "print(np.char.split('i am python king'))"
   ],
   "metadata": {
    "collapsed": false,
    "ExecuteTime": {
     "end_time": "2023-08-07T19:50:30.135165719Z",
     "start_time": "2023-08-07T19:50:30.078594564Z"
    }
   },
   "id": "717572a2014507e7"
  },
  {
   "cell_type": "code",
   "execution_count": 40,
   "outputs": [
    {
     "name": "stdout",
     "output_type": "stream",
     "text": [
      "['mango' 'admi' 'aninta']\n"
     ]
    }
   ],
   "source": [
    "print(np.char.strip(['mango', 'admin','aninta'],'n'))"
   ],
   "metadata": {
    "collapsed": false,
    "ExecuteTime": {
     "end_time": "2023-08-07T19:54:41.081943858Z",
     "start_time": "2023-08-07T19:54:41.040714137Z"
    }
   },
   "id": "f20b1ae00a5a6216"
  },
  {
   "cell_type": "code",
   "execution_count": 41,
   "outputs": [
    {
     "name": "stdout",
     "output_type": "stream",
     "text": [
      "['d:m:y' 'y-m-d']\n"
     ]
    }
   ],
   "source": [
    "print(np.char.join([':','-'], ['dmy','ymd']))"
   ],
   "metadata": {
    "collapsed": false,
    "ExecuteTime": {
     "end_time": "2023-08-07T19:57:26.669556061Z",
     "start_time": "2023-08-07T19:57:26.616591420Z"
    }
   },
   "id": "d072282462f6dd18"
  },
  {
   "cell_type": "code",
   "execution_count": 42,
   "outputs": [
    {
     "name": "stdout",
     "output_type": "stream",
     "text": [
      "She is a python king\n"
     ]
    }
   ],
   "source": [
    "print(np.char.replace('He is a python king', 'He', 'She'))"
   ],
   "metadata": {
    "collapsed": false,
    "ExecuteTime": {
     "end_time": "2023-08-07T19:59:29.507216033Z",
     "start_time": "2023-08-07T19:59:29.453095864Z"
    }
   },
   "id": "fc012eb752eabfe7"
  },
  {
   "cell_type": "markdown",
   "source": [
    "Array Manipulation"
   ],
   "metadata": {
    "collapsed": false
   },
   "id": "b21ea853df92bd23"
  },
  {
   "cell_type": "code",
   "execution_count": 44,
   "outputs": [],
   "source": [
    "# Changing Shape"
   ],
   "metadata": {
    "collapsed": false,
    "ExecuteTime": {
     "end_time": "2023-08-07T20:03:03.823715175Z",
     "start_time": "2023-08-07T20:03:03.796167238Z"
    }
   },
   "id": "8faca63c925ab827"
  },
  {
   "cell_type": "code",
   "execution_count": 46,
   "outputs": [
    {
     "name": "stdout",
     "output_type": "stream",
     "text": [
      "The Original Array: \n",
      "[0 1 2 3 4 5 6 7 8]\n",
      "\n",
      "modified Array: \n",
      "[[0 1 2]\n",
      " [3 4 5]\n",
      " [6 7 8]]\n"
     ]
    }
   ],
   "source": [
    "x = np.arange(9)\n",
    "print(\"The Original Array: \")\n",
    "print(x)\n",
    "print()\n",
    "y = x.reshape(3,3)\n",
    "print(\"modified Array: \")\n",
    "print(y)\n",
    " "
   ],
   "metadata": {
    "collapsed": false,
    "ExecuteTime": {
     "end_time": "2023-08-07T20:07:32.497237318Z",
     "start_time": "2023-08-07T20:07:32.454808880Z"
    }
   },
   "id": "d2a2457e1d39e54e"
  },
  {
   "cell_type": "code",
   "execution_count": 47,
   "outputs": [
    {
     "name": "stdout",
     "output_type": "stream",
     "text": [
      "[0 1 2 3 4 5 6 7 8]\n"
     ]
    }
   ],
   "source": [
    "print(y.flatten())"
   ],
   "metadata": {
    "collapsed": false,
    "ExecuteTime": {
     "end_time": "2023-08-07T20:10:02.877968085Z",
     "start_time": "2023-08-07T20:10:02.802677895Z"
    }
   },
   "id": "608dbd96ddbf970f"
  },
  {
   "cell_type": "code",
   "execution_count": 48,
   "outputs": [
    {
     "name": "stdout",
     "output_type": "stream",
     "text": [
      "[[ 0  1  2]\n",
      " [ 3  4  5]\n",
      " [ 6  7  8]\n",
      " [ 9 10 11]]\n"
     ]
    }
   ],
   "source": [
    "i = np.arange(12).reshape(4,3)\n",
    "print(i)"
   ],
   "metadata": {
    "collapsed": false,
    "ExecuteTime": {
     "end_time": "2023-08-07T20:13:02.268741565Z",
     "start_time": "2023-08-07T20:13:02.231626490Z"
    }
   },
   "id": "ce79c9cc36f3960c"
  },
  {
   "cell_type": "code",
   "execution_count": 51,
   "outputs": [
    {
     "name": "stdout",
     "output_type": "stream",
     "text": [
      "[[ 0  3  6  9]\n",
      " [ 1  4  7 10]\n",
      " [ 2  5  8 11]]\n"
     ]
    }
   ],
   "source": [
    "i=np.transpose(i)\n",
    "print(i)"
   ],
   "metadata": {
    "collapsed": false,
    "ExecuteTime": {
     "end_time": "2023-08-07T20:15:49.331595659Z",
     "start_time": "2023-08-07T20:15:49.282579700Z"
    }
   },
   "id": "870e55bd1f669e57"
  },
  {
   "cell_type": "code",
   "execution_count": 54,
   "outputs": [],
   "source": [
    "a = np.arange(8).reshape(2,2,2)"
   ],
   "metadata": {
    "collapsed": false,
    "ExecuteTime": {
     "end_time": "2023-08-07T20:21:16.222740017Z",
     "start_time": "2023-08-07T20:21:16.180719471Z"
    }
   },
   "id": "9cd2a8f82e1a7b9"
  },
  {
   "cell_type": "code",
   "execution_count": 55,
   "outputs": [
    {
     "name": "stdout",
     "output_type": "stream",
     "text": [
      "[[[0 1]\n",
      "  [2 3]]\n",
      "\n",
      " [[4 5]\n",
      "  [6 7]]]\n"
     ]
    }
   ],
   "source": [
    "print (a)"
   ],
   "metadata": {
    "collapsed": false,
    "ExecuteTime": {
     "end_time": "2023-08-07T20:21:27.944071398Z",
     "start_time": "2023-08-07T20:21:27.847900493Z"
    }
   },
   "id": "49b780840d6e458"
  },
  {
   "cell_type": "markdown",
   "source": [
    "Arithematics Operations"
   ],
   "metadata": {
    "collapsed": false
   },
   "id": "eede2e15db26aca1"
  },
  {
   "cell_type": "code",
   "execution_count": 56,
   "outputs": [
    {
     "name": "stdout",
     "output_type": "stream",
     "text": [
      "[[0 1 2]\n",
      " [3 4 5]\n",
      " [6 7 8]]\n"
     ]
    }
   ],
   "source": [
    "a = np.arange(9).reshape(3,3)\n",
    "print(a)"
   ],
   "metadata": {
    "collapsed": false,
    "ExecuteTime": {
     "end_time": "2023-08-07T20:28:24.690847963Z",
     "start_time": "2023-08-07T20:28:24.596815819Z"
    }
   },
   "id": "4a610234763117c7"
  },
  {
   "cell_type": "code",
   "execution_count": 58,
   "outputs": [
    {
     "name": "stdout",
     "output_type": "stream",
     "text": [
      "[10 10 10]\n"
     ]
    }
   ],
   "source": [
    "b = np.array([10,10,10])\n",
    "print(b)"
   ],
   "metadata": {
    "collapsed": false,
    "ExecuteTime": {
     "end_time": "2023-08-07T20:29:51.316528123Z",
     "start_time": "2023-08-07T20:29:51.259898660Z"
    }
   },
   "id": "17fbb81bb367b7d1"
  },
  {
   "cell_type": "code",
   "execution_count": 60,
   "outputs": [
    {
     "name": "stdout",
     "output_type": "stream",
     "text": [
      "[[10 11 12]\n",
      " [13 14 15]\n",
      " [16 17 18]]\n"
     ]
    }
   ],
   "source": [
    "print (np.add(a,b))"
   ],
   "metadata": {
    "collapsed": false,
    "ExecuteTime": {
     "end_time": "2023-08-07T20:33:57.042578267Z",
     "start_time": "2023-08-07T20:33:57.000060089Z"
    }
   },
   "id": "528d1c81ee47e981"
  },
  {
   "cell_type": "code",
   "execution_count": 61,
   "outputs": [
    {
     "name": "stdout",
     "output_type": "stream",
     "text": [
      "[[-10  -9  -8]\n",
      " [ -7  -6  -5]\n",
      " [ -4  -3  -2]]\n"
     ]
    }
   ],
   "source": [
    "print(np.subtract(a,b))"
   ],
   "metadata": {
    "collapsed": false,
    "ExecuteTime": {
     "end_time": "2023-08-07T20:36:41.939055265Z",
     "start_time": "2023-08-07T20:36:41.876269716Z"
    }
   },
   "id": "8c9d2850d2a815b4"
  },
  {
   "cell_type": "code",
   "execution_count": 62,
   "outputs": [
    {
     "name": "stdout",
     "output_type": "stream",
     "text": [
      "[[ 0 10 20]\n",
      " [30 40 50]\n",
      " [60 70 80]]\n"
     ]
    }
   ],
   "source": [
    "print(np.multiply(a,b))"
   ],
   "metadata": {
    "collapsed": false,
    "ExecuteTime": {
     "end_time": "2023-08-07T20:37:05.101002588Z",
     "start_time": "2023-08-07T20:37:04.965565412Z"
    }
   },
   "id": "b02bbeda9e2ff9e7"
  },
  {
   "cell_type": "code",
   "execution_count": 63,
   "outputs": [
    {
     "name": "stdout",
     "output_type": "stream",
     "text": [
      "[[0.  0.1 0.2]\n",
      " [0.3 0.4 0.5]\n",
      " [0.6 0.7 0.8]]\n"
     ]
    }
   ],
   "source": [
    "print(np.divide(a,b))"
   ],
   "metadata": {
    "collapsed": false,
    "ExecuteTime": {
     "end_time": "2023-08-07T20:37:19.604419803Z",
     "start_time": "2023-08-07T20:37:19.519269578Z"
    }
   },
   "id": "9dee3f6e280dc5dc"
  },
  {
   "cell_type": "markdown",
   "source": [
    "Slicing"
   ],
   "metadata": {
    "collapsed": false
   },
   "id": "a5da3ad597680a39"
  },
  {
   "cell_type": "code",
   "execution_count": 64,
   "outputs": [
    {
     "name": "stdout",
     "output_type": "stream",
     "text": [
      "[ 0  1  2  3  4  5  6  7  8  9 10 11 12 13 14 15 16 17 18 19]\n"
     ]
    }
   ],
   "source": [
    "g = np.arange(20)\n",
    "print(g)"
   ],
   "metadata": {
    "collapsed": false,
    "ExecuteTime": {
     "end_time": "2023-08-07T20:39:13.199086596Z",
     "start_time": "2023-08-07T20:39:13.100513679Z"
    }
   },
   "id": "4f7d054ee863e2a8"
  },
  {
   "cell_type": "code",
   "execution_count": 67,
   "outputs": [
    {
     "name": "stdout",
     "output_type": "stream",
     "text": [
      "[0 1 2 3 4]\n"
     ]
    }
   ],
   "source": [
    "print (g[:5])\n"
   ],
   "metadata": {
    "collapsed": false,
    "ExecuteTime": {
     "end_time": "2023-08-07T20:41:19.725490581Z",
     "start_time": "2023-08-07T20:41:19.668480947Z"
    }
   },
   "id": "4a5346199c4ae267"
  },
  {
   "cell_type": "code",
   "execution_count": 69,
   "outputs": [
    {
     "name": "stdout",
     "output_type": "stream",
     "text": [
      "slice(2, 9, 2)\n"
     ]
    }
   ],
   "source": [
    "print (slice(2,9,2))"
   ],
   "metadata": {
    "collapsed": false,
    "ExecuteTime": {
     "end_time": "2023-08-07T20:43:40.292067095Z",
     "start_time": "2023-08-07T20:43:40.244019545Z"
    }
   },
   "id": "1839b7430d7faa70"
  },
  {
   "cell_type": "markdown",
   "source": [
    "Iterating Over Array"
   ],
   "metadata": {
    "collapsed": false
   },
   "id": "f01e6c497204de90"
  },
  {
   "cell_type": "code",
   "execution_count": 71,
   "outputs": [
    {
     "name": "stdout",
     "output_type": "stream",
     "text": [
      "[[ 0  5 10]\n",
      " [15 20 25]\n",
      " [30 35 40]]\n"
     ]
    }
   ],
   "source": [
    "a = np.arange(0,45,5).reshape(3,3)\n",
    "print(a)"
   ],
   "metadata": {
    "collapsed": false,
    "ExecuteTime": {
     "end_time": "2023-08-07T20:48:10.455775326Z",
     "start_time": "2023-08-07T20:48:10.416572799Z"
    }
   },
   "id": "8c3f04cc9061e3d2"
  },
  {
   "cell_type": "code",
   "execution_count": 72,
   "outputs": [
    {
     "name": "stdout",
     "output_type": "stream",
     "text": [
      "0\n",
      "5\n",
      "10\n",
      "15\n",
      "20\n",
      "25\n",
      "30\n",
      "35\n",
      "40\n"
     ]
    }
   ],
   "source": [
    "for x in np.nditer(a):\n",
    "    print(x)"
   ],
   "metadata": {
    "collapsed": false,
    "ExecuteTime": {
     "end_time": "2023-08-07T20:49:31.468732230Z",
     "start_time": "2023-08-07T20:49:31.391674142Z"
    }
   },
   "id": "2ec3a960b50fcac"
  },
  {
   "cell_type": "markdown",
   "source": [
    "Iteration Order (C-style and F-style"
   ],
   "metadata": {
    "collapsed": false
   },
   "id": "2df1e08d5015fa88"
  },
  {
   "cell_type": "code",
   "execution_count": 73,
   "outputs": [
    {
     "name": "stdout",
     "output_type": "stream",
     "text": [
      "[[ 0  5 10]\n",
      " [15 20 25]\n",
      " [30 35 40]]\n",
      "0\n",
      "5\n",
      "10\n",
      "15\n",
      "20\n",
      "25\n",
      "30\n",
      "35\n",
      "40\n",
      "------------------------------------------------------\n",
      "0\n",
      "15\n",
      "30\n",
      "5\n",
      "20\n",
      "35\n",
      "10\n",
      "25\n",
      "40\n"
     ]
    }
   ],
   "source": [
    "print(a)\n",
    "for x in np.nditer(a, order=\"C\"):\n",
    "    print(x) \n",
    "    \n",
    "print(\"------------------------------------------------------\")    \n",
    "\n",
    "for x in np.nditer(a, order=\"F\"):\n",
    "    print(x)   \n",
    "    "
   ],
   "metadata": {
    "collapsed": false,
    "ExecuteTime": {
     "end_time": "2023-08-07T20:59:12.588352882Z",
     "start_time": "2023-08-07T20:59:12.526192359Z"
    }
   },
   "id": "8ee7707fd2cd4880"
  },
  {
   "cell_type": "markdown",
   "source": [
    "Joining Arrays"
   ],
   "metadata": {
    "collapsed": false
   },
   "id": "4c729a51638cb97e"
  },
  {
   "cell_type": "code",
   "execution_count": 74,
   "outputs": [
    {
     "name": "stdout",
     "output_type": "stream",
     "text": [
      "first array:  [[1 2]\n",
      " [3 4]]\n"
     ]
    }
   ],
   "source": [
    " x = np.array([[1,2],[3,4]])\n",
    "print(\"first array: \", x)"
   ],
   "metadata": {
    "collapsed": false,
    "ExecuteTime": {
     "end_time": "2023-08-07T21:03:02.858885945Z",
     "start_time": "2023-08-07T21:03:02.807804605Z"
    }
   },
   "id": "ad845d8b622d28c8"
  },
  {
   "cell_type": "code",
   "execution_count": 75,
   "outputs": [
    {
     "name": "stdout",
     "output_type": "stream",
     "text": [
      "second array:  [[5 6]\n",
      " [7 8]]\n"
     ]
    }
   ],
   "source": [
    "y = np.array([[5,6],[7,8]])\n",
    "print(\"second array: \", y)\n"
   ],
   "metadata": {
    "collapsed": false,
    "ExecuteTime": {
     "end_time": "2023-08-07T21:05:05.276939993Z",
     "start_time": "2023-08-07T21:05:05.184173638Z"
    }
   },
   "id": "3bb2b60b1639fa38"
  },
  {
   "cell_type": "code",
   "execution_count": 82,
   "outputs": [
    {
     "name": "stdout",
     "output_type": "stream",
     "text": [
      "first array:  [[1 2]\n",
      " [3 4]]\n",
      "second array:  [[5 6]\n",
      " [7 8]]\n",
      "\n",
      "\n",
      "joining the two array along axix 0 :\n",
      "[[1 2]\n",
      " [3 4]\n",
      " [5 6]\n",
      " [7 8]]\n",
      "\n",
      "\n",
      "joining the two array along axix 1 :\n",
      "[[1 2 5 6]\n",
      " [3 4 7 8]]\n"
     ]
    }
   ],
   "source": [
    "print(\"first array: \", x)\n",
    "print(\"second array: \", y)\n",
    "print('\\n')\n",
    "print(\"joining the two array along axix 0 :\")\n",
    "print(np.concatenate((x,y)))\n",
    "print('\\n')\n",
    "print(\"joining the two array along axix 1 :\")\n",
    "print(np.concatenate((x,y), axis=1))"
   ],
   "metadata": {
    "collapsed": false,
    "ExecuteTime": {
     "end_time": "2023-08-07T21:19:29.350157761Z",
     "start_time": "2023-08-07T21:19:29.331959270Z"
    }
   },
   "id": "b792f87592de4c82"
  },
  {
   "cell_type": "markdown",
   "source": [
    "Spliting Array"
   ],
   "metadata": {
    "collapsed": false
   },
   "id": "8e6c47dbc687ff4d"
  },
  {
   "cell_type": "code",
   "execution_count": 84,
   "outputs": [
    {
     "name": "stdout",
     "output_type": "stream",
     "text": [
      "[0 1 2 3 4 5 6 7 8]\n",
      "[array([0, 1, 2]), array([3, 4, 5]), array([6, 7, 8])]\n"
     ]
    }
   ],
   "source": [
    "a = np.arange(9)\n",
    "print (a)\n",
    "print(np.split(a,3))"
   ],
   "metadata": {
    "collapsed": false,
    "ExecuteTime": {
     "end_time": "2023-08-07T21:23:39.437631925Z",
     "start_time": "2023-08-07T21:23:39.392729035Z"
    }
   },
   "id": "ef88b82eb9f9a8"
  },
  {
   "cell_type": "markdown",
   "source": [
    "Resizing an Array"
   ],
   "metadata": {
    "collapsed": false
   },
   "id": "75bde702188d0bfc"
  },
  {
   "cell_type": "code",
   "execution_count": 89,
   "outputs": [
    {
     "name": "stdout",
     "output_type": "stream",
     "text": [
      "[[1 2 3]\n",
      " [4 5 6]]\n",
      "(2, 3)\n",
      "\n",
      "\n",
      "[[0 1]\n",
      " [2 3]\n",
      " [4 5]]\n",
      "(3, 2)\n"
     ]
    }
   ],
   "source": [
    "d = np.array([[1,2,3],[4,5,6]])\n",
    "print(d)\n",
    "print(d.shape)\n",
    "print(\"\\n\")\n",
    "e = np.resize(a,(3,2))\n",
    "print(e)\n",
    "print(e.shape)"
   ],
   "metadata": {
    "collapsed": false,
    "ExecuteTime": {
     "end_time": "2023-08-07T21:32:10.946125249Z",
     "start_time": "2023-08-07T21:32:10.901853311Z"
    }
   },
   "id": "7791fdf733f20119"
  },
  {
   "cell_type": "markdown",
   "source": [
    "Histogram"
   ],
   "metadata": {
    "collapsed": false
   },
   "id": "c0be352902b892c6"
  },
  {
   "cell_type": "markdown",
   "source": [
    "Statistics"
   ],
   "metadata": {
    "collapsed": false
   },
   "id": "89529a42dcfeb546"
  },
  {
   "cell_type": "code",
   "execution_count": 91,
   "outputs": [
    {
     "name": "stdout",
     "output_type": "stream",
     "text": [
      "[[1 2 3]\n",
      " [4 5 6]]\n"
     ]
    }
   ],
   "source": [
    "stats = np.array([[1,2,3],[4,5,6]])\n",
    "print(stats)"
   ],
   "metadata": {
    "collapsed": false,
    "ExecuteTime": {
     "end_time": "2023-08-07T21:52:11.646979688Z",
     "start_time": "2023-08-07T21:52:11.553945124Z"
    }
   },
   "id": "1f82e0ff51f07886"
  },
  {
   "cell_type": "code",
   "execution_count": 92,
   "outputs": [
    {
     "data": {
      "text/plain": "1"
     },
     "execution_count": 92,
     "metadata": {},
     "output_type": "execute_result"
    }
   ],
   "source": [
    "np.min(stats)"
   ],
   "metadata": {
    "collapsed": false,
    "ExecuteTime": {
     "end_time": "2023-08-07T21:52:30.452203355Z",
     "start_time": "2023-08-07T21:52:30.373516053Z"
    }
   },
   "id": "6f65a137c26dda8f"
  },
  {
   "cell_type": "code",
   "execution_count": 93,
   "outputs": [
    {
     "data": {
      "text/plain": "6"
     },
     "execution_count": 93,
     "metadata": {},
     "output_type": "execute_result"
    }
   ],
   "source": [
    "np.max(stats)"
   ],
   "metadata": {
    "collapsed": false,
    "ExecuteTime": {
     "end_time": "2023-08-07T21:52:47.099512251Z",
     "start_time": "2023-08-07T21:52:46.997409496Z"
    }
   },
   "id": "7d040821defd8422"
  },
  {
   "cell_type": "code",
   "execution_count": 94,
   "outputs": [
    {
     "data": {
      "text/plain": "21"
     },
     "execution_count": 94,
     "metadata": {},
     "output_type": "execute_result"
    }
   ],
   "source": [
    "np.sum(stats)"
   ],
   "metadata": {
    "collapsed": false,
    "ExecuteTime": {
     "end_time": "2023-08-07T21:53:52.049147818Z",
     "start_time": "2023-08-07T21:53:51.941940148Z"
    }
   },
   "id": "46fb7bbbff573338"
  },
  {
   "cell_type": "markdown",
   "source": [
    "Stacking Vectors"
   ],
   "metadata": {
    "collapsed": false
   },
   "id": "33c8aa9ced9d1249"
  },
  {
   "cell_type": "code",
   "execution_count": 95,
   "outputs": [
    {
     "data": {
      "text/plain": "array([[5, 6, 7, 8],\n       [1, 2, 3, 4]])"
     },
     "execution_count": 95,
     "metadata": {},
     "output_type": "execute_result"
    }
   ],
   "source": [
    "v1 = np.array([1,2,3,4])\n",
    "v2 = np.array([5,6,7,8])\n",
    "\n",
    "np.vstack([v2,v1])"
   ],
   "metadata": {
    "collapsed": false,
    "ExecuteTime": {
     "end_time": "2023-08-07T21:57:47.155516362Z",
     "start_time": "2023-08-07T21:57:47.059286770Z"
    }
   },
   "id": "c478cbf0a630d977"
  },
  {
   "cell_type": "markdown",
   "source": [
    "Loading Data From File"
   ],
   "metadata": {
    "collapsed": false
   },
   "id": "18dc621acebbe2fb"
  },
  {
   "cell_type": "code",
   "execution_count": 119,
   "outputs": [
    {
     "data": {
      "text/plain": "array([[  1. ,  59.4,  26.3,  81.8],\n       [  2. ,  65.9,  29.6, 100. ],\n       [  3. ,  70.7,  56.3,  70.5],\n       [  4. ,  27.5,  19.4,  36.7],\n       [  5. ,  45.2,  27.4,  96.4],\n       [  6. ,  65.7,  29.1,  80.4],\n       [  7. ,  88.2,  31.2,  77.8],\n       [  8. ,  82.6,  70.9,  71.3],\n       [  9. ,  58.6,  52.2,  31. ],\n       [ 10. ,  84.1,  71.5,  25.1],\n       [ 11. ,  84.5,  78.7,  93.4],\n       [ 12. ,  63.6,  67.5,  63.9],\n       [ 13. ,  15.7,  11.1,  82.5],\n       [ 14. ,  76.8,  23.4,  99. ],\n       [ 15. ,  99.8,  38.7,  78.5],\n       [ 16. ,  29.5,  95.2,  96.4],\n       [ 17. ,  36.3,  28.8,  56.6],\n       [ 18. ,  79.4,  96.4,  15.7],\n       [ 19. ,  75. ,  12.2,  72.1],\n       [ 20. ,  95.1,  83.3,  47. ],\n       [ 21. ,  86.4,  84.6,  53.8],\n       [ 22. ,  50.4,  65.5,  68.3],\n       [ 23. ,  19.3,  18.9,  54.8],\n       [ 24. ,  19.8,  51.5,  49.5],\n       [ 25. ,  20.2,  17.2,  53.7],\n       [ 26. ,  46.8,  93.3,  69.5],\n       [ 27. ,  27.7,  26. ,  48.7],\n       [ 28. ,  17.3,  27.9,  71.2],\n       [ 29. ,  77.7,  80.5,  37. ],\n       [ 30. ,  47.4,  68.1,  40.5],\n       [ 31. ,  71. ,  75.6,  23. ],\n       [ 32. ,  65.4,  50.7,  10.2],\n       [ 33. ,  25.4,  43.9,  39.5],\n       [ 34. ,  43.2,  25.4,  76.2],\n       [ 35. ,  31.9,  80.7,  31. ],\n       [ 36. ,  99. ,  11.4,  60. ],\n       [ 37. ,  30.7,  57.6,  21.9],\n       [ 38. ,  85.5,  46. ,  12. ],\n       [ 39. ,  76.8,  66.5,  99.5],\n       [ 40. ,  50.6,  41.8,  34.8],\n       [ 41. ,  32.7,  21.3,  11.6],\n       [ 42. ,  59. ,  16.4,  88.8],\n       [ 43. ,  58.9,  41. ,  71.1],\n       [ 44. ,  60.9,  48.9,  28.5],\n       [ 45. ,  38.7,  71.3,  65.3],\n       [ 46. ,  20. ,  59.7,  89.1],\n       [ 47. ,  84.8,  10.8,  22.2],\n       [ 48. ,  50.9,  35. ,  38.1],\n       [ 49. ,  80.4,  67.5,  58.9],\n       [ 50. ,  71.5,  76.9,  37.4],\n       [ 51. ,  92. ,  31.7,  31.2],\n       [ 52. ,  30.6,  71.9,  42.5],\n       [ 53. ,  49.8,  30. ,  15.2],\n       [ 54. ,  33.3,  51.7,  57.6],\n       [ 55. ,  63.8,  28.4,  86.8],\n       [ 56. ,  58.8,  41.1,  62.6],\n       [ 57. ,  67.8,  50.4,  57.1],\n       [ 58. ,  28.2,  92.1,  75.9],\n       [ 59. ,  57.8,  44.7,  53.3],\n       [ 60. ,  67.1,  79.3,  39.2],\n       [ 61. ,  17.6,  96. ,  44.4],\n       [ 62. ,  89.9,  46.3,  87.1],\n       [ 63. ,  89.8,  34. ,  97.4],\n       [ 64. ,  33.1,  61.6,  78.6],\n       [ 65. ,  27.3,  84.8,  74.5],\n       [ 66. ,  34.2,  33.1,  23.5],\n       [ 67. ,  17.2,  83.9,  43.2],\n       [ 68. ,  60.1,  66.6,  11.5],\n       [ 69. ,  46.4,  65.3,  51.5],\n       [ 70. ,  45.3,  73.2,  18.9],\n       [ 71. ,  57.6,  63.2,  59.4],\n       [ 72. ,  68. ,  60.9,  47.8],\n       [ 73. ,  82.5,  55.8,  68.9],\n       [ 74. ,  95.1,  18.6,  15.6],\n       [ 75. ,  64. ,  70.4,  77.3],\n       [ 76. ,  95.3,  76.9,  32.4],\n       [ 77. ,  80.5,  59.5,  78.3],\n       [ 78. ,  36.9,  32.1,  75.2],\n       [ 79. ,  79.7,  13.8,  96.5],\n       [ 80. ,  69.1,  10.9,  91. ],\n       [ 81. ,  23.2,  33.9,  74.8],\n       [ 82. ,  37.1,  39.5,  58.5],\n       [ 83. ,  98.1,  45.7,  29.9],\n       [ 84. ,  64.3,  32.9,  45.2],\n       [ 85. ,  30.1,  53.9,  45.4],\n       [ 86. ,  29.3,  39.6,  72.3],\n       [ 87. ,  54.2,  37.2,  18. ],\n       [ 88. ,  17.3,  11.6,  88.4],\n       [ 89. ,  17. ,  73.6,  51.6],\n       [ 90. ,  59.8,  77.5,  60.6],\n       [ 91. ,  20.5,  11.5,  85.7],\n       [ 92. ,  86.9,  33.2,  34.1],\n       [ 93. ,  40.7,  17.4,  24.1],\n       [ 94. ,  26.3,  63.4,  69.2],\n       [ 95. ,  16.1,  29.1,  52.5],\n       [ 96. ,  82.8,  24.6,  72.5],\n       [ 97. ,  14.4,  89.7,  23.1],\n       [ 98. ,  22.7,  31.7,  35.9],\n       [ 99. ,  94.1,  95.7,  75.3],\n       [100. ,  58. ,  81.3,  46.6],\n       [101. ,  32. ,  25.1,  44.6],\n       [102. ,  88.6,  63.1,  27.1],\n       [103. ,  64.1,  27.5,  11.9],\n       [104. ,  92.5,  56.8,  59.4],\n       [105. ,  42.3,  33.4,  99.6],\n       [106. ,  55.3,  10.3,  80.3],\n       [107. ,  87.5,  11.5,  90.5],\n       [108. ,  68.4,  22.8,  78.8],\n       [109. ,  20.8,  79.9,  35.4],\n       [110. ,  39.7,  61.3,  23.7],\n       [111. ,  41.3,  94.6,  59.8],\n       [112. ,  18.2,  89.5,  86.5],\n       [113. ,  78.5,  82.2,  97.7],\n       [114. ,  34.2,  45.7,  77. ],\n       [115. ,  47.8,  58.4,  99.3],\n       [116. ,  52. ,  83.9,  68.6],\n       [117. ,  35.2,  98.3,  22. ],\n       [118. ,  21. ,  34. ,  93.8],\n       [119. ,  80.5,  71.6,  90.9],\n       [120. ,  15. ,  27.4,  75.6],\n       [121. ,  78.9,  42.4,  25.8],\n       [122. ,  94. ,  46.1,  48.3],\n       [123. ,  39.2,  45.4,  97.8],\n       [124. ,  43.8,  91.8,  99.8],\n       [125. ,  60.5,  91.8,  40.9],\n       [126. ,  56. ,  53.3,  27.6],\n       [127. ,  63.3,  16.2,  16.4],\n       [128. ,  32.5,  33.7,  78.4],\n       [129. ,  68.6,  26. ,  23.1],\n       [130. ,  49.3,  89.4,  12.2],\n       [131. ,  31.8,  47.3,  26.4],\n       [132. ,  64.8,  18. ,  91.9],\n       [133. ,  29.2,  60.8,  77.7],\n       [134. ,  29. ,  87.8,  31.3],\n       [135. ,  92.5,  20.5,  24.4],\n       [136. ,  28.9,  38.5,  13.1],\n       [137. ,  72.3,  63.3,  61. ],\n       [138. ,  26. ,  50.6,  52. ],\n       [139. ,  91.9,  16.9,  52.2],\n       [140. ,  41.1,  68.7,  28.6],\n       [141. ,  54.8,  82.3,  41.6],\n       [142. ,  21.5,  79.1,  13.1],\n       [143. ,  86.7,  56.9,  66.8],\n       [144. ,  62.2,  32.5,  36.1],\n       [145. ,  10.4,  55.7,  10.1],\n       [146. ,  93.4,  52. ,  98.6],\n       [147. ,  62.1,  87.7,  67.5],\n       [148. ,  11.5,  82.5,  74.6],\n       [149. ,  92.9,  38. ,  19.6],\n       [150. ,  18.3,  87.1,  23.1],\n       [151. ,  18.2,  52.2,  17.9],\n       [152. ,  14. ,  65.5,  37.3],\n       [153. ,  31.5,  34.4,  96.8],\n       [154. ,  66.2,  95.7,  81.9],\n       [155. ,  95.9,  13.6,  53.4],\n       [156. ,  98.7,  68.4,  83.3],\n       [157. ,  75. ,  42.5,  87.5],\n       [158. ,  46.2,  81.7,  97.8],\n       [159. ,  84.5,  42.7,  51.1],\n       [160. ,  40.2,  99.3,  53.9],\n       [161. ,  86. ,  89.9,  24.2],\n       [162. ,  58.9,  22. ,  29.8],\n       [163. ,  88.8,  15.3,  61.6],\n       [164. ,  14.5,  53.2,  74.3],\n       [165. ,  14.3,  85.2,  11.5],\n       [166. ,  87.5,  68.8,  96.6],\n       [167. ,  33. ,  32. ,  53. ],\n       [168. ,  90. ,  33.7,  84.3],\n       [169. ,  29.2,  49.3,  62. ],\n       [170. ,  87.6,  67.9,  71.7],\n       [171. ,  69.3,  52.2,  80.2],\n       [172. ,  51.2,  92.2,  43.3],\n       [173. ,  58.9,  27. ,  84.1],\n       [174. ,  73.7,  94.5,  61.4],\n       [175. ,  33.7,  53.5,  39.7],\n       [176. ,  44.4,  50.6,  55.8],\n       [177. ,  45. ,  42.3,  77.4],\n       [178. ,  73. ,  21. ,  60.9],\n       [179. ,  29.5,  89.4,  94.4],\n       [180. ,  11.1,  12.1,  45.4],\n       [181. ,  10.2,  89.6,  74.5],\n       [182. ,  39.4,  46.2,  68.6],\n       [183. ,  18.8,  30.4,  38.9],\n       [184. ,  32.7,  29.3,  32.9],\n       [185. ,  23.9,  63.5,  90.7],\n       [186. ,  13.5,  60.4,  43.8],\n       [187. ,  19.2,  70.5,  97.2],\n       [188. ,  87.5,  36.6,  91.5],\n       [189. ,  80.5,  40.4,  41. ],\n       [190. ,  81. ,  72.2,  68.4],\n       [191. ,  24.3,  53.5,  79.1],\n       [192. ,  77.1,  49.8,  52.6],\n       [193. ,  15.4,  15.1,  56. ],\n       [194. ,  29.2,  91.8,  78.3],\n       [195. ,  60.8,  64.7,  22.8],\n       [196. ,  48.9,  73.7,  45.3],\n       [197. ,  77.8,  99.4,  95.7],\n       [198. ,  68. ,  71. ,  50.7],\n       [199. ,  42.2,  56.3,  11.1],\n       [200. ,  99. ,  59.2,  60.6],\n       [201. ,  85.6,  70.2,  26.5],\n       [202. ,  43.1,  47.1,  92.2],\n       [203. ,  80.8,  48.6,  18.1],\n       [204. ,  55.1,  58.8,  53.7],\n       [205. ,  39.3,  42.8,  10.1],\n       [206. ,  67.1,  53.8,  95.9],\n       [207. ,  10.4,  98.1,  76.8],\n       [208. ,  52.1,  97.5,  30.6],\n       [209. ,  77.8,  13.2,  61.8],\n       [210. ,  31. ,  96.2,  45.7],\n       [211. ,  72.2,  78.8,  77.7],\n       [212. ,  55.2,  77.8,  99.5],\n       [213. ,  59.8,  58.8,  57. ],\n       [214. ,  74.3,  67.5,  82.5],\n       [215. ,  42.6,  77.7,  45.9],\n       [216. ,  96.4,  85.8,  37.9],\n       [217. ,  57. ,  66.8,  26.8],\n       [218. ,  87.7,  54. ,  37. ],\n       [219. ,  63.9,  80. ,  29.8],\n       [220. ,  17.3,  87. ,  31.8],\n       [221. ,  43.7,  71.5,  89.2],\n       [222. ,  30.4,  59.8,  16.7],\n       [223. ,  11.6,  93.3,  30.2],\n       [224. ,  38.3,  85.6,  55.1],\n       [225. ,  86.6,  89.3,  25.4],\n       [226. ,  89.5,  35.3,  42.3],\n       [227. ,  25.8,  46.8,  26. ],\n       [228. ,  18.2,  43.4,  81.6],\n       [229. ,  86.9,  97.6,  90.9],\n       [230. ,  10.8,  95.7,  63.1],\n       [231. ,  91.8,  92. ,  10.7],\n       [232. ,  42.1,  65.8,  20.4],\n       [233. ,  55.7,  51.5,  11.7],\n       [234. ,  80.4,  49.9,  82.5],\n       [235. ,  46.9,  86.2,  75.6],\n       [236. ,  70. ,  69.8,  92.9],\n       [237. ,  70.3,  18.7,  29.4],\n       [238. ,  16.3,  69.2,  33.2],\n       [239. ,  91.6,  39.9,  47.9],\n       [240. ,  18.8,  40. ,  22.5],\n       [241. ,  82.4,  80.1,  16.9],\n       [242. ,  89.3,  25.4,  44.1],\n       [243. ,  43.2,  45.6,  90.7],\n       [244. ,  70. ,  87.6,  70. ],\n       [245. ,  77. ,  16.1,  68.9],\n       [246. ,  25.5,  48.4,  44.3],\n       [247. ,  73. ,  31. ,  88.7],\n       [248. ,  79.1,  65.3,  98.4],\n       [249. ,  50.6,  65.7,  87. ],\n       [250. ,  41.6,  68.5,  94.2]])"
     },
     "execution_count": 119,
     "metadata": {},
     "output_type": "execute_result"
    }
   ],
   "source": [
    "filedata = np.genfromtxt('data.csv', delimiter=',')\n",
    "filedata.astype('int64')\n",
    "(filedata)\n"
   ],
   "metadata": {
    "collapsed": false,
    "ExecuteTime": {
     "end_time": "2023-08-08T08:41:45.433417370Z",
     "start_time": "2023-08-08T08:41:45.284709407Z"
    }
   },
   "id": "711cedca72443a74"
  },
  {
   "cell_type": "code",
   "execution_count": 145,
   "outputs": [
    {
     "name": "stdout",
     "output_type": "stream",
     "text": [
      "[[False  True False  True]\n",
      " [False  True False  True]\n",
      " [False  True  True  True]\n",
      " [False False False False]\n",
      " [False False False  True]\n",
      " [False  True False  True]\n",
      " [False  True False  True]\n",
      " [False  True  True  True]\n",
      " [False  True  True False]\n",
      " [False  True  True False]\n",
      " [False  True  True  True]\n",
      " [False  True  True  True]\n",
      " [False False False  True]\n",
      " [False  True False  True]\n",
      " [False  True False  True]\n",
      " [False False  True  True]\n",
      " [False False False  True]\n",
      " [False  True  True False]\n",
      " [False  True False  True]\n",
      " [False  True  True False]\n",
      " [False  True  True  True]\n",
      " [False  True  True  True]\n",
      " [False False False  True]\n",
      " [False False  True False]\n",
      " [False False False  True]\n",
      " [False False  True  True]\n",
      " [False False False False]\n",
      " [False False False  True]\n",
      " [False  True  True False]\n",
      " [False False  True False]\n",
      " [False  True  True False]\n",
      " [False  True  True False]\n",
      " [False False False False]\n",
      " [False False False  True]\n",
      " [False False  True False]\n",
      " [False  True False  True]\n",
      " [False False  True False]\n",
      " [False  True False False]\n",
      " [False  True  True  True]\n",
      " [False  True False False]\n",
      " [False False False False]\n",
      " [False  True False  True]\n",
      " [False  True False  True]\n",
      " [False  True False False]\n",
      " [False False  True  True]\n",
      " [False False  True  True]\n",
      " [False  True False False]\n",
      " [False  True False False]\n",
      " [False  True  True  True]\n",
      " [False  True  True False]\n",
      " [ True  True False False]\n",
      " [ True False  True False]\n",
      " [ True False False False]\n",
      " [ True False  True  True]\n",
      " [ True  True False  True]\n",
      " [ True  True False  True]\n",
      " [ True  True  True  True]\n",
      " [ True False  True  True]\n",
      " [ True  True False  True]\n",
      " [ True  True  True False]\n",
      " [ True False  True False]\n",
      " [ True  True False  True]\n",
      " [ True  True False  True]\n",
      " [ True False  True  True]\n",
      " [ True False  True  True]\n",
      " [ True False False False]\n",
      " [ True False  True False]\n",
      " [ True  True  True False]\n",
      " [ True False  True  True]\n",
      " [ True False  True False]\n",
      " [ True  True  True  True]\n",
      " [ True  True  True False]\n",
      " [ True  True  True  True]\n",
      " [ True  True False False]\n",
      " [ True  True  True  True]\n",
      " [ True  True  True False]\n",
      " [ True  True  True  True]\n",
      " [ True False False  True]\n",
      " [ True  True False  True]\n",
      " [ True  True False  True]\n",
      " [ True False False  True]\n",
      " [ True False False  True]\n",
      " [ True  True False False]\n",
      " [ True  True False False]\n",
      " [ True False  True False]\n",
      " [ True False False  True]\n",
      " [ True  True False False]\n",
      " [ True False False  True]\n",
      " [ True False  True  True]\n",
      " [ True  True  True  True]\n",
      " [ True False False  True]\n",
      " [ True  True False False]\n",
      " [ True False False False]\n",
      " [ True False  True  True]\n",
      " [ True False False  True]\n",
      " [ True  True False  True]\n",
      " [ True False  True False]\n",
      " [ True False False False]\n",
      " [ True  True  True  True]\n",
      " [ True  True  True False]\n",
      " [ True False False False]\n",
      " [ True  True  True False]\n",
      " [ True  True False False]\n",
      " [ True  True  True  True]\n",
      " [ True False False  True]\n",
      " [ True  True False  True]\n",
      " [ True  True False  True]\n",
      " [ True  True False  True]\n",
      " [ True False  True False]\n",
      " [ True False  True False]\n",
      " [ True False  True  True]\n",
      " [ True False  True  True]\n",
      " [ True  True  True  True]\n",
      " [ True False False  True]\n",
      " [ True False  True  True]\n",
      " [ True  True  True  True]\n",
      " [ True False  True False]\n",
      " [ True False False  True]\n",
      " [ True  True  True  True]\n",
      " [ True False False  True]\n",
      " [ True  True False False]\n",
      " [ True  True False False]\n",
      " [ True False False  True]\n",
      " [ True False  True  True]\n",
      " [ True  True  True False]\n",
      " [ True  True  True False]\n",
      " [ True  True False False]\n",
      " [ True False False  True]\n",
      " [ True  True False False]\n",
      " [ True False  True False]\n",
      " [ True False False False]\n",
      " [ True  True False  True]\n",
      " [ True False  True  True]\n",
      " [ True False  True False]\n",
      " [ True  True False False]\n",
      " [ True False False False]\n",
      " [ True  True  True  True]\n",
      " [ True False  True  True]\n",
      " [ True  True False  True]\n",
      " [ True False  True False]\n",
      " [ True  True  True False]\n",
      " [ True False  True False]\n",
      " [ True  True  True  True]\n",
      " [ True  True False False]\n",
      " [ True False  True False]\n",
      " [ True  True  True  True]\n",
      " [ True  True  True  True]\n",
      " [ True False  True  True]\n",
      " [ True  True False False]\n",
      " [ True False  True False]\n",
      " [ True False  True False]\n",
      " [ True False  True False]\n",
      " [ True False False  True]\n",
      " [ True  True  True  True]\n",
      " [ True  True False  True]\n",
      " [ True  True  True  True]\n",
      " [ True  True False  True]\n",
      " [ True False  True  True]\n",
      " [ True  True False  True]\n",
      " [ True False  True  True]\n",
      " [ True  True  True False]\n",
      " [ True  True False False]\n",
      " [ True  True False  True]\n",
      " [ True False  True  True]\n",
      " [ True False  True False]\n",
      " [ True  True  True  True]\n",
      " [ True False False  True]\n",
      " [ True  True False  True]\n",
      " [ True False False  True]\n",
      " [ True  True  True  True]\n",
      " [ True  True  True  True]\n",
      " [ True  True  True False]\n",
      " [ True  True False  True]\n",
      " [ True  True  True  True]\n",
      " [ True False  True False]\n",
      " [ True False  True  True]\n",
      " [ True False False  True]\n",
      " [ True  True False  True]\n",
      " [ True False  True  True]\n",
      " [ True False False False]\n",
      " [ True False  True  True]\n",
      " [ True False False  True]\n",
      " [ True False False False]\n",
      " [ True False False False]\n",
      " [ True False  True  True]\n",
      " [ True False  True False]\n",
      " [ True False  True  True]\n",
      " [ True  True False  True]\n",
      " [ True  True False False]\n",
      " [ True  True  True  True]\n",
      " [ True False  True  True]\n",
      " [ True  True False  True]\n",
      " [ True False False  True]\n",
      " [ True False  True  True]\n",
      " [ True  True  True False]\n",
      " [ True False  True False]\n",
      " [ True  True  True  True]\n",
      " [ True  True  True  True]\n",
      " [ True False  True False]\n",
      " [ True  True  True  True]\n",
      " [ True  True  True False]\n",
      " [ True False False  True]\n",
      " [ True  True False False]\n",
      " [ True  True  True  True]\n",
      " [ True False False False]\n",
      " [ True  True  True  True]\n",
      " [ True False  True  True]\n",
      " [ True  True  True False]\n",
      " [ True  True False  True]\n",
      " [ True False  True False]\n",
      " [ True  True  True  True]\n",
      " [ True  True  True  True]\n",
      " [ True  True  True  True]\n",
      " [ True  True  True  True]\n",
      " [ True False  True False]\n",
      " [ True  True  True False]\n",
      " [ True  True  True False]\n",
      " [ True  True  True False]\n",
      " [ True  True  True False]\n",
      " [ True False  True False]\n",
      " [ True False  True  True]\n",
      " [ True False  True False]\n",
      " [ True False  True False]\n",
      " [ True False  True  True]\n",
      " [ True  True  True False]\n",
      " [ True  True False False]\n",
      " [ True False False False]\n",
      " [ True False False  True]\n",
      " [ True  True  True  True]\n",
      " [ True False  True  True]\n",
      " [ True  True  True False]\n",
      " [ True False  True False]\n",
      " [ True  True  True False]\n",
      " [ True  True False  True]\n",
      " [ True False  True  True]\n",
      " [ True  True  True  True]\n",
      " [ True  True False False]\n",
      " [ True False  True False]\n",
      " [ True  True False False]\n",
      " [ True False False False]\n",
      " [ True  True  True False]\n",
      " [ True  True False False]\n",
      " [ True False False  True]\n",
      " [ True  True  True  True]\n",
      " [ True  True False  True]\n",
      " [ True False False False]\n",
      " [ True  True False  True]\n",
      " [ True  True  True  True]\n",
      " [ True  True  True  True]\n",
      " [ True False  True  True]]\n"
     ]
    }
   ],
   "source": [
    "print(filedata > 50)"
   ],
   "metadata": {
    "collapsed": false,
    "ExecuteTime": {
     "end_time": "2023-08-08T15:06:39.902106642Z",
     "start_time": "2023-08-08T15:06:39.855252046Z"
    }
   },
   "id": "57f83638254337d6"
  },
  {
   "cell_type": "code",
   "execution_count": 113,
   "outputs": [
    {
     "data": {
      "text/plain": "array([ 59.4,  81.8,  65.9, 100. ,  70.7,  56.3,  70.5,  96.4,  65.7,\n        80.4,  88.2,  77.8,  82.6,  70.9,  71.3,  58.6,  52.2,  84.1,\n        71.5,  84.5,  78.7,  93.4,  63.6,  67.5,  63.9,  82.5,  76.8,\n        99. ,  99.8,  78.5,  95.2,  96.4,  56.6,  79.4,  96.4,  75. ,\n        72.1,  95.1,  83.3,  86.4,  84.6,  53.8,  50.4,  65.5,  68.3,\n        54.8,  51.5,  53.7,  93.3,  69.5,  71.2,  77.7,  80.5,  68.1,\n        71. ,  75.6,  65.4,  50.7,  76.2,  80.7,  99. ,  60. ,  57.6,\n        85.5,  76.8,  66.5,  99.5,  50.6,  59. ,  88.8,  58.9,  71.1,\n        60.9,  71.3,  65.3,  59.7,  89.1,  84.8,  50.9,  80.4,  67.5,\n        58.9,  71.5,  76.9,  51. ,  92. ,  52. ,  71.9,  53. ,  54. ,\n        51.7,  57.6,  55. ,  63.8,  86.8,  56. ,  58.8,  62.6,  57. ,\n        67.8,  50.4,  57.1,  58. ,  92.1,  75.9,  59. ,  57.8,  53.3,\n        60. ,  67.1,  79.3,  61. ,  96. ,  62. ,  89.9,  87.1,  63. ,\n        89.8,  97.4,  64. ,  61.6,  78.6,  65. ,  84.8,  74.5,  66. ,\n        67. ,  83.9,  68. ,  60.1,  66.6,  69. ,  65.3,  51.5,  70. ,\n        73.2,  71. ,  57.6,  63.2,  59.4,  72. ,  68. ,  60.9,  73. ,\n        82.5,  55.8,  68.9,  74. ,  95.1,  75. ,  64. ,  70.4,  77.3,\n        76. ,  95.3,  76.9,  77. ,  80.5,  59.5,  78.3,  78. ,  75.2,\n        79. ,  79.7,  96.5,  80. ,  69.1,  91. ,  81. ,  74.8,  82. ,\n        58.5,  83. ,  98.1,  84. ,  64.3,  85. ,  53.9,  86. ,  72.3,\n        87. ,  54.2,  88. ,  88.4,  89. ,  73.6,  51.6,  90. ,  59.8,\n        77.5,  60.6,  91. ,  85.7,  92. ,  86.9,  93. ,  94. ,  63.4,\n        69.2,  95. ,  52.5,  96. ,  82.8,  72.5,  97. ,  89.7,  98. ,\n        99. ,  94.1,  95.7,  75.3, 100. ,  58. ,  81.3, 101. , 102. ,\n        88.6,  63.1, 103. ,  64.1, 104. ,  92.5,  56.8,  59.4, 105. ,\n        99.6, 106. ,  55.3,  80.3, 107. ,  87.5,  90.5, 108. ,  68.4,\n        78.8, 109. ,  79.9, 110. ,  61.3, 111. ,  94.6,  59.8, 112. ,\n        89.5,  86.5, 113. ,  78.5,  82.2,  97.7, 114. ,  77. , 115. ,\n        58.4,  99.3, 116. ,  52. ,  83.9,  68.6, 117. ,  98.3, 118. ,\n        93.8, 119. ,  80.5,  71.6,  90.9, 120. ,  75.6, 121. ,  78.9,\n       122. ,  94. , 123. ,  97.8, 124. ,  91.8,  99.8, 125. ,  60.5,\n        91.8, 126. ,  56. ,  53.3, 127. ,  63.3, 128. ,  78.4, 129. ,\n        68.6, 130. ,  89.4, 131. , 132. ,  64.8,  91.9, 133. ,  60.8,\n        77.7, 134. ,  87.8, 135. ,  92.5, 136. , 137. ,  72.3,  63.3,\n        61. , 138. ,  50.6,  52. , 139. ,  91.9,  52.2, 140. ,  68.7,\n       141. ,  54.8,  82.3, 142. ,  79.1, 143. ,  86.7,  56.9,  66.8,\n       144. ,  62.2, 145. ,  55.7, 146. ,  93.4,  52. ,  98.6, 147. ,\n        62.1,  87.7,  67.5, 148. ,  82.5,  74.6, 149. ,  92.9, 150. ,\n        87.1, 151. ,  52.2, 152. ,  65.5, 153. ,  96.8, 154. ,  66.2,\n        95.7,  81.9, 155. ,  95.9,  53.4, 156. ,  98.7,  68.4,  83.3,\n       157. ,  75. ,  87.5, 158. ,  81.7,  97.8, 159. ,  84.5,  51.1,\n       160. ,  99.3,  53.9, 161. ,  86. ,  89.9, 162. ,  58.9, 163. ,\n        88.8,  61.6, 164. ,  53.2,  74.3, 165. ,  85.2, 166. ,  87.5,\n        68.8,  96.6, 167. ,  53. , 168. ,  90. ,  84.3, 169. ,  62. ,\n       170. ,  87.6,  67.9,  71.7, 171. ,  69.3,  52.2,  80.2, 172. ,\n        51.2,  92.2, 173. ,  58.9,  84.1, 174. ,  73.7,  94.5,  61.4,\n       175. ,  53.5, 176. ,  50.6,  55.8, 177. ,  77.4, 178. ,  73. ,\n        60.9, 179. ,  89.4,  94.4, 180. , 181. ,  89.6,  74.5, 182. ,\n        68.6, 183. , 184. , 185. ,  63.5,  90.7, 186. ,  60.4, 187. ,\n        70.5,  97.2, 188. ,  87.5,  91.5, 189. ,  80.5, 190. ,  81. ,\n        72.2,  68.4, 191. ,  53.5,  79.1, 192. ,  77.1,  52.6, 193. ,\n        56. , 194. ,  91.8,  78.3, 195. ,  60.8,  64.7, 196. ,  73.7,\n       197. ,  77.8,  99.4,  95.7, 198. ,  68. ,  71. ,  50.7, 199. ,\n        56.3, 200. ,  99. ,  59.2,  60.6, 201. ,  85.6,  70.2, 202. ,\n        92.2, 203. ,  80.8, 204. ,  55.1,  58.8,  53.7, 205. , 206. ,\n        67.1,  53.8,  95.9, 207. ,  98.1,  76.8, 208. ,  52.1,  97.5,\n       209. ,  77.8,  61.8, 210. ,  96.2, 211. ,  72.2,  78.8,  77.7,\n       212. ,  55.2,  77.8,  99.5, 213. ,  59.8,  58.8,  57. , 214. ,\n        74.3,  67.5,  82.5, 215. ,  77.7, 216. ,  96.4,  85.8, 217. ,\n        57. ,  66.8, 218. ,  87.7,  54. , 219. ,  63.9,  80. , 220. ,\n        87. , 221. ,  71.5,  89.2, 222. ,  59.8, 223. ,  93.3, 224. ,\n        85.6,  55.1, 225. ,  86.6,  89.3, 226. ,  89.5, 227. , 228. ,\n        81.6, 229. ,  86.9,  97.6,  90.9, 230. ,  95.7,  63.1, 231. ,\n        91.8,  92. , 232. ,  65.8, 233. ,  55.7,  51.5, 234. ,  80.4,\n        82.5, 235. ,  86.2,  75.6, 236. ,  70. ,  69.8,  92.9, 237. ,\n        70.3, 238. ,  69.2, 239. ,  91.6, 240. , 241. ,  82.4,  80.1,\n       242. ,  89.3, 243. ,  90.7, 244. ,  70. ,  87.6,  70. , 245. ,\n        77. ,  68.9, 246. , 247. ,  73. ,  88.7, 248. ,  79.1,  65.3,\n        98.4, 249. ,  50.6,  65.7,  87. , 250. ,  68.5,  94.2])"
     },
     "execution_count": 113,
     "metadata": {},
     "output_type": "execute_result"
    }
   ],
   "source": [
    "filedata[filedata > 50]"
   ],
   "metadata": {
    "collapsed": false,
    "ExecuteTime": {
     "end_time": "2023-08-07T22:24:53.187182165Z",
     "start_time": "2023-08-07T22:24:53.050459760Z"
    }
   },
   "id": "b9cd519adb519916"
  },
  {
   "cell_type": "code",
   "execution_count": 114,
   "outputs": [
    {
     "data": {
      "text/plain": "array([ True,  True,  True,  True])"
     },
     "execution_count": 114,
     "metadata": {},
     "output_type": "execute_result"
    }
   ],
   "source": [
    "np.any(filedata > 50, axis = 0)"
   ],
   "metadata": {
    "collapsed": false,
    "ExecuteTime": {
     "end_time": "2023-08-07T22:27:53.181507302Z",
     "start_time": "2023-08-07T22:27:53.113763372Z"
    }
   },
   "id": "2b0340b71682cf1f"
  },
  {
   "cell_type": "code",
   "execution_count": 115,
   "outputs": [
    {
     "data": {
      "text/plain": "array([[False,  True, False,  True],\n       [False,  True, False, False],\n       [False,  True,  True,  True],\n       [False, False, False, False],\n       [False, False, False,  True],\n       [False,  True, False,  True],\n       [False,  True, False,  True],\n       [False,  True,  True,  True],\n       [False,  True,  True, False],\n       [False,  True,  True, False],\n       [False,  True,  True,  True],\n       [False,  True,  True,  True],\n       [False, False, False,  True],\n       [False,  True, False,  True],\n       [False,  True, False,  True],\n       [False, False,  True,  True],\n       [False, False, False,  True],\n       [False,  True,  True, False],\n       [False,  True, False,  True],\n       [False,  True,  True, False],\n       [False,  True,  True,  True],\n       [False,  True,  True,  True],\n       [False, False, False,  True],\n       [False, False,  True, False],\n       [False, False, False,  True],\n       [False, False,  True,  True],\n       [False, False, False, False],\n       [False, False, False,  True],\n       [False,  True,  True, False],\n       [False, False,  True, False],\n       [False,  True,  True, False],\n       [False,  True,  True, False],\n       [False, False, False, False],\n       [False, False, False,  True],\n       [False, False,  True, False],\n       [False,  True, False,  True],\n       [False, False,  True, False],\n       [False,  True, False, False],\n       [False,  True,  True,  True],\n       [False,  True, False, False],\n       [False, False, False, False],\n       [False,  True, False,  True],\n       [False,  True, False,  True],\n       [False,  True, False, False],\n       [False, False,  True,  True],\n       [False, False,  True,  True],\n       [False,  True, False, False],\n       [False,  True, False, False],\n       [False,  True,  True,  True],\n       [False,  True,  True, False],\n       [ True,  True, False, False],\n       [ True, False,  True, False],\n       [ True, False, False, False],\n       [ True, False,  True,  True],\n       [ True,  True, False,  True],\n       [ True,  True, False,  True],\n       [ True,  True,  True,  True],\n       [ True, False,  True,  True],\n       [ True,  True, False,  True],\n       [ True,  True,  True, False],\n       [ True, False,  True, False],\n       [ True,  True, False,  True],\n       [ True,  True, False,  True],\n       [ True, False,  True,  True],\n       [ True, False,  True,  True],\n       [ True, False, False, False],\n       [ True, False,  True, False],\n       [ True,  True,  True, False],\n       [ True, False,  True,  True],\n       [ True, False,  True, False],\n       [ True,  True,  True,  True],\n       [ True,  True,  True, False],\n       [ True,  True,  True,  True],\n       [ True,  True, False, False],\n       [ True,  True,  True,  True],\n       [ True,  True,  True, False],\n       [ True,  True,  True,  True],\n       [ True, False, False,  True],\n       [ True,  True, False,  True],\n       [ True,  True, False,  True],\n       [ True, False, False,  True],\n       [ True, False, False,  True],\n       [ True,  True, False, False],\n       [ True,  True, False, False],\n       [ True, False,  True, False],\n       [ True, False, False,  True],\n       [ True,  True, False, False],\n       [ True, False, False,  True],\n       [ True, False,  True,  True],\n       [ True,  True,  True,  True],\n       [ True, False, False,  True],\n       [ True,  True, False, False],\n       [ True, False, False, False],\n       [ True, False,  True,  True],\n       [ True, False, False,  True],\n       [ True,  True, False,  True],\n       [ True, False,  True, False],\n       [ True, False, False, False],\n       [ True,  True,  True,  True],\n       [False,  True,  True, False],\n       [False, False, False, False],\n       [False,  True,  True, False],\n       [False,  True, False, False],\n       [False,  True,  True,  True],\n       [False, False, False,  True],\n       [False,  True, False,  True],\n       [False,  True, False,  True],\n       [False,  True, False,  True],\n       [False, False,  True, False],\n       [False, False,  True, False],\n       [False, False,  True,  True],\n       [False, False,  True,  True],\n       [False,  True,  True,  True],\n       [False, False, False,  True],\n       [False, False,  True,  True],\n       [False,  True,  True,  True],\n       [False, False,  True, False],\n       [False, False, False,  True],\n       [False,  True,  True,  True],\n       [False, False, False,  True],\n       [False,  True, False, False],\n       [False,  True, False, False],\n       [False, False, False,  True],\n       [False, False,  True,  True],\n       [False,  True,  True, False],\n       [False,  True,  True, False],\n       [False,  True, False, False],\n       [False, False, False,  True],\n       [False,  True, False, False],\n       [False, False,  True, False],\n       [False, False, False, False],\n       [False,  True, False,  True],\n       [False, False,  True,  True],\n       [False, False,  True, False],\n       [False,  True, False, False],\n       [False, False, False, False],\n       [False,  True,  True,  True],\n       [False, False,  True,  True],\n       [False,  True, False,  True],\n       [False, False,  True, False],\n       [False,  True,  True, False],\n       [False, False,  True, False],\n       [False,  True,  True,  True],\n       [False,  True, False, False],\n       [False, False,  True, False],\n       [False,  True,  True,  True],\n       [False,  True,  True,  True],\n       [False, False,  True,  True],\n       [False,  True, False, False],\n       [False, False,  True, False],\n       [False, False,  True, False],\n       [False, False,  True, False],\n       [False, False, False,  True],\n       [False,  True,  True,  True],\n       [False,  True, False,  True],\n       [False,  True,  True,  True],\n       [False,  True, False,  True],\n       [False, False,  True,  True],\n       [False,  True, False,  True],\n       [False, False,  True,  True],\n       [False,  True,  True, False],\n       [False,  True, False, False],\n       [False,  True, False,  True],\n       [False, False,  True,  True],\n       [False, False,  True, False],\n       [False,  True,  True,  True],\n       [False, False, False,  True],\n       [False,  True, False,  True],\n       [False, False, False,  True],\n       [False,  True,  True,  True],\n       [False,  True,  True,  True],\n       [False,  True,  True, False],\n       [False,  True, False,  True],\n       [False,  True,  True,  True],\n       [False, False,  True, False],\n       [False, False,  True,  True],\n       [False, False, False,  True],\n       [False,  True, False,  True],\n       [False, False,  True,  True],\n       [False, False, False, False],\n       [False, False,  True,  True],\n       [False, False, False,  True],\n       [False, False, False, False],\n       [False, False, False, False],\n       [False, False,  True,  True],\n       [False, False,  True, False],\n       [False, False,  True,  True],\n       [False,  True, False,  True],\n       [False,  True, False, False],\n       [False,  True,  True,  True],\n       [False, False,  True,  True],\n       [False,  True, False,  True],\n       [False, False, False,  True],\n       [False, False,  True,  True],\n       [False,  True,  True, False],\n       [False, False,  True, False],\n       [False,  True,  True,  True],\n       [False,  True,  True,  True],\n       [False, False,  True, False],\n       [False,  True,  True,  True],\n       [False,  True,  True, False],\n       [False, False, False,  True],\n       [False,  True, False, False],\n       [False,  True,  True,  True],\n       [False, False, False, False],\n       [False,  True,  True,  True],\n       [False, False,  True,  True],\n       [False,  True,  True, False],\n       [False,  True, False,  True],\n       [False, False,  True, False],\n       [False,  True,  True,  True],\n       [False,  True,  True,  True],\n       [False,  True,  True,  True],\n       [False,  True,  True,  True],\n       [False, False,  True, False],\n       [False,  True,  True, False],\n       [False,  True,  True, False],\n       [False,  True,  True, False],\n       [False,  True,  True, False],\n       [False, False,  True, False],\n       [False, False,  True,  True],\n       [False, False,  True, False],\n       [False, False,  True, False],\n       [False, False,  True,  True],\n       [False,  True,  True, False],\n       [False,  True, False, False],\n       [False, False, False, False],\n       [False, False, False,  True],\n       [False,  True,  True,  True],\n       [False, False,  True,  True],\n       [False,  True,  True, False],\n       [False, False,  True, False],\n       [False,  True,  True, False],\n       [False,  True, False,  True],\n       [False, False,  True,  True],\n       [False,  True,  True,  True],\n       [False,  True, False, False],\n       [False, False,  True, False],\n       [False,  True, False, False],\n       [False, False, False, False],\n       [False,  True,  True, False],\n       [False,  True, False, False],\n       [False, False, False,  True],\n       [False,  True,  True,  True],\n       [False,  True, False,  True],\n       [False, False, False, False],\n       [False,  True, False,  True],\n       [False,  True,  True,  True],\n       [False,  True,  True,  True],\n       [False, False,  True,  True]])"
     },
     "execution_count": 115,
     "metadata": {},
     "output_type": "execute_result"
    }
   ],
   "source": [
    "((filedata > 50)& (filedata<100))"
   ],
   "metadata": {
    "collapsed": false,
    "ExecuteTime": {
     "end_time": "2023-08-07T22:30:27.388119149Z",
     "start_time": "2023-08-07T22:30:27.279700663Z"
    }
   },
   "id": "a39ed4f409e3615"
  },
  {
   "cell_type": "code",
   "execution_count": 131,
   "outputs": [
    {
     "data": {
      "text/plain": "array([['P', 'F', 'P', 'F'],\n       ['P', 'F', 'P', 'F'],\n       ['P', 'F', 'F', 'F'],\n       ['P', 'P', 'P', 'P'],\n       ['P', 'P', 'P', 'F'],\n       ['P', 'F', 'P', 'F']], dtype='<U1')"
     },
     "execution_count": 131,
     "metadata": {},
     "output_type": "execute_result"
    }
   ],
   "source": [
    "d = np.where (filedata[:6]<= 50, 'P', 'F')\n",
    "d\n"
   ],
   "metadata": {
    "collapsed": false,
    "ExecuteTime": {
     "end_time": "2023-08-08T08:58:27.189780688Z",
     "start_time": "2023-08-08T08:58:27.130530624Z"
    }
   },
   "id": "cdfc8cf702306c7d"
  },
  {
   "cell_type": "code",
   "execution_count": 136,
   "outputs": [],
   "source": [],
   "metadata": {
    "collapsed": false,
    "ExecuteTime": {
     "end_time": "2023-08-08T09:17:28.265138398Z",
     "start_time": "2023-08-08T09:17:28.208850170Z"
    }
   },
   "id": "796678cba505b33b"
  },
  {
   "cell_type": "code",
   "execution_count": 138,
   "outputs": [],
   "source": [
    "filedata = np.genfromtxt('data.csv', delimiter=',')"
   ],
   "metadata": {
    "collapsed": false,
    "ExecuteTime": {
     "end_time": "2023-08-08T11:15:24.549159331Z",
     "start_time": "2023-08-08T11:15:24.496867946Z"
    }
   },
   "id": "147a1406a4dbb5be"
  },
  {
   "cell_type": "code",
   "execution_count": 139,
   "outputs": [
    {
     "data": {
      "text/plain": "array([[  1. ,  59.4,  26.3,  81.8],\n       [  2. ,  65.9,  29.6, 100. ],\n       [  3. ,  70.7,  56.3,  70.5],\n       [  4. ,  27.5,  19.4,  36.7],\n       [  5. ,  45.2,  27.4,  96.4],\n       [  6. ,  65.7,  29.1,  80.4],\n       [  7. ,  88.2,  31.2,  77.8],\n       [  8. ,  82.6,  70.9,  71.3],\n       [  9. ,  58.6,  52.2,  31. ],\n       [ 10. ,  84.1,  71.5,  25.1],\n       [ 11. ,  84.5,  78.7,  93.4],\n       [ 12. ,  63.6,  67.5,  63.9],\n       [ 13. ,  15.7,  11.1,  82.5],\n       [ 14. ,  76.8,  23.4,  99. ],\n       [ 15. ,  99.8,  38.7,  78.5],\n       [ 16. ,  29.5,  95.2,  96.4],\n       [ 17. ,  36.3,  28.8,  56.6],\n       [ 18. ,  79.4,  96.4,  15.7],\n       [ 19. ,  75. ,  12.2,  72.1],\n       [ 20. ,  95.1,  83.3,  47. ],\n       [ 21. ,  86.4,  84.6,  53.8],\n       [ 22. ,  50.4,  65.5,  68.3],\n       [ 23. ,  19.3,  18.9,  54.8],\n       [ 24. ,  19.8,  51.5,  49.5],\n       [ 25. ,  20.2,  17.2,  53.7],\n       [ 26. ,  46.8,  93.3,  69.5],\n       [ 27. ,  27.7,  26. ,  48.7],\n       [ 28. ,  17.3,  27.9,  71.2],\n       [ 29. ,  77.7,  80.5,  37. ],\n       [ 30. ,  47.4,  68.1,  40.5],\n       [ 31. ,  71. ,  75.6,  23. ],\n       [ 32. ,  65.4,  50.7,  10.2],\n       [ 33. ,  25.4,  43.9,  39.5],\n       [ 34. ,  43.2,  25.4,  76.2],\n       [ 35. ,  31.9,  80.7,  31. ],\n       [ 36. ,  99. ,  11.4,  60. ],\n       [ 37. ,  30.7,  57.6,  21.9],\n       [ 38. ,  85.5,  46. ,  12. ],\n       [ 39. ,  76.8,  66.5,  99.5],\n       [ 40. ,  50.6,  41.8,  34.8],\n       [ 41. ,  32.7,  21.3,  11.6],\n       [ 42. ,  59. ,  16.4,  88.8],\n       [ 43. ,  58.9,  41. ,  71.1],\n       [ 44. ,  60.9,  48.9,  28.5],\n       [ 45. ,  38.7,  71.3,  65.3],\n       [ 46. ,  20. ,  59.7,  89.1],\n       [ 47. ,  84.8,  10.8,  22.2],\n       [ 48. ,  50.9,  35. ,  38.1],\n       [ 49. ,  80.4,  67.5,  58.9],\n       [ 50. ,  71.5,  76.9,  37.4],\n       [ 51. ,  92. ,  31.7,  31.2],\n       [ 52. ,  30.6,  71.9,  42.5],\n       [ 53. ,  49.8,  30. ,  15.2],\n       [ 54. ,  33.3,  51.7,  57.6],\n       [ 55. ,  63.8,  28.4,  86.8],\n       [ 56. ,  58.8,  41.1,  62.6],\n       [ 57. ,  67.8,  50.4,  57.1],\n       [ 58. ,  28.2,  92.1,  75.9],\n       [ 59. ,  57.8,  44.7,  53.3],\n       [ 60. ,  67.1,  79.3,  39.2],\n       [ 61. ,  17.6,  96. ,  44.4],\n       [ 62. ,  89.9,  46.3,  87.1],\n       [ 63. ,  89.8,  34. ,  97.4],\n       [ 64. ,  33.1,  61.6,  78.6],\n       [ 65. ,  27.3,  84.8,  74.5],\n       [ 66. ,  34.2,  33.1,  23.5],\n       [ 67. ,  17.2,  83.9,  43.2],\n       [ 68. ,  60.1,  66.6,  11.5],\n       [ 69. ,  46.4,  65.3,  51.5],\n       [ 70. ,  45.3,  73.2,  18.9],\n       [ 71. ,  57.6,  63.2,  59.4],\n       [ 72. ,  68. ,  60.9,  47.8],\n       [ 73. ,  82.5,  55.8,  68.9],\n       [ 74. ,  95.1,  18.6,  15.6],\n       [ 75. ,  64. ,  70.4,  77.3],\n       [ 76. ,  95.3,  76.9,  32.4],\n       [ 77. ,  80.5,  59.5,  78.3],\n       [ 78. ,  36.9,  32.1,  75.2],\n       [ 79. ,  79.7,  13.8,  96.5],\n       [ 80. ,  69.1,  10.9,  91. ],\n       [ 81. ,  23.2,  33.9,  74.8],\n       [ 82. ,  37.1,  39.5,  58.5],\n       [ 83. ,  98.1,  45.7,  29.9],\n       [ 84. ,  64.3,  32.9,  45.2],\n       [ 85. ,  30.1,  53.9,  45.4],\n       [ 86. ,  29.3,  39.6,  72.3],\n       [ 87. ,  54.2,  37.2,  18. ],\n       [ 88. ,  17.3,  11.6,  88.4],\n       [ 89. ,  17. ,  73.6,  51.6],\n       [ 90. ,  59.8,  77.5,  60.6],\n       [ 91. ,  20.5,  11.5,  85.7],\n       [ 92. ,  86.9,  33.2,  34.1],\n       [ 93. ,  40.7,  17.4,  24.1],\n       [ 94. ,  26.3,  63.4,  69.2],\n       [ 95. ,  16.1,  29.1,  52.5],\n       [ 96. ,  82.8,  24.6,  72.5],\n       [ 97. ,  14.4,  89.7,  23.1],\n       [ 98. ,  22.7,  31.7,  35.9],\n       [ 99. ,  94.1,  95.7,  75.3],\n       [100. ,  58. ,  81.3,  46.6],\n       [101. ,  32. ,  25.1,  44.6],\n       [102. ,  88.6,  63.1,  27.1],\n       [103. ,  64.1,  27.5,  11.9],\n       [104. ,  92.5,  56.8,  59.4],\n       [105. ,  42.3,  33.4,  99.6],\n       [106. ,  55.3,  10.3,  80.3],\n       [107. ,  87.5,  11.5,  90.5],\n       [108. ,  68.4,  22.8,  78.8],\n       [109. ,  20.8,  79.9,  35.4],\n       [110. ,  39.7,  61.3,  23.7],\n       [111. ,  41.3,  94.6,  59.8],\n       [112. ,  18.2,  89.5,  86.5],\n       [113. ,  78.5,  82.2,  97.7],\n       [114. ,  34.2,  45.7,  77. ],\n       [115. ,  47.8,  58.4,  99.3],\n       [116. ,  52. ,  83.9,  68.6],\n       [117. ,  35.2,  98.3,  22. ],\n       [118. ,  21. ,  34. ,  93.8],\n       [119. ,  80.5,  71.6,  90.9],\n       [120. ,  15. ,  27.4,  75.6],\n       [121. ,  78.9,  42.4,  25.8],\n       [122. ,  94. ,  46.1,  48.3],\n       [123. ,  39.2,  45.4,  97.8],\n       [124. ,  43.8,  91.8,  99.8],\n       [125. ,  60.5,  91.8,  40.9],\n       [126. ,  56. ,  53.3,  27.6],\n       [127. ,  63.3,  16.2,  16.4],\n       [128. ,  32.5,  33.7,  78.4],\n       [129. ,  68.6,  26. ,  23.1],\n       [130. ,  49.3,  89.4,  12.2],\n       [131. ,  31.8,  47.3,  26.4],\n       [132. ,  64.8,  18. ,  91.9],\n       [133. ,  29.2,  60.8,  77.7],\n       [134. ,  29. ,  87.8,  31.3],\n       [135. ,  92.5,  20.5,  24.4],\n       [136. ,  28.9,  38.5,  13.1],\n       [137. ,  72.3,  63.3,  61. ],\n       [138. ,  26. ,  50.6,  52. ],\n       [139. ,  91.9,  16.9,  52.2],\n       [140. ,  41.1,  68.7,  28.6],\n       [141. ,  54.8,  82.3,  41.6],\n       [142. ,  21.5,  79.1,  13.1],\n       [143. ,  86.7,  56.9,  66.8],\n       [144. ,  62.2,  32.5,  36.1],\n       [145. ,  10.4,  55.7,  10.1],\n       [146. ,  93.4,  52. ,  98.6],\n       [147. ,  62.1,  87.7,  67.5],\n       [148. ,  11.5,  82.5,  74.6],\n       [149. ,  92.9,  38. ,  19.6],\n       [150. ,  18.3,  87.1,  23.1],\n       [151. ,  18.2,  52.2,  17.9],\n       [152. ,  14. ,  65.5,  37.3],\n       [153. ,  31.5,  34.4,  96.8],\n       [154. ,  66.2,  95.7,  81.9],\n       [155. ,  95.9,  13.6,  53.4],\n       [156. ,  98.7,  68.4,  83.3],\n       [157. ,  75. ,  42.5,  87.5],\n       [158. ,  46.2,  81.7,  97.8],\n       [159. ,  84.5,  42.7,  51.1],\n       [160. ,  40.2,  99.3,  53.9],\n       [161. ,  86. ,  89.9,  24.2],\n       [162. ,  58.9,  22. ,  29.8],\n       [163. ,  88.8,  15.3,  61.6],\n       [164. ,  14.5,  53.2,  74.3],\n       [165. ,  14.3,  85.2,  11.5],\n       [166. ,  87.5,  68.8,  96.6],\n       [167. ,  33. ,  32. ,  53. ],\n       [168. ,  90. ,  33.7,  84.3],\n       [169. ,  29.2,  49.3,  62. ],\n       [170. ,  87.6,  67.9,  71.7],\n       [171. ,  69.3,  52.2,  80.2],\n       [172. ,  51.2,  92.2,  43.3],\n       [173. ,  58.9,  27. ,  84.1],\n       [174. ,  73.7,  94.5,  61.4],\n       [175. ,  33.7,  53.5,  39.7],\n       [176. ,  44.4,  50.6,  55.8],\n       [177. ,  45. ,  42.3,  77.4],\n       [178. ,  73. ,  21. ,  60.9],\n       [179. ,  29.5,  89.4,  94.4],\n       [180. ,  11.1,  12.1,  45.4],\n       [181. ,  10.2,  89.6,  74.5],\n       [182. ,  39.4,  46.2,  68.6],\n       [183. ,  18.8,  30.4,  38.9],\n       [184. ,  32.7,  29.3,  32.9],\n       [185. ,  23.9,  63.5,  90.7],\n       [186. ,  13.5,  60.4,  43.8],\n       [187. ,  19.2,  70.5,  97.2],\n       [188. ,  87.5,  36.6,  91.5],\n       [189. ,  80.5,  40.4,  41. ],\n       [190. ,  81. ,  72.2,  68.4],\n       [191. ,  24.3,  53.5,  79.1],\n       [192. ,  77.1,  49.8,  52.6],\n       [193. ,  15.4,  15.1,  56. ],\n       [194. ,  29.2,  91.8,  78.3],\n       [195. ,  60.8,  64.7,  22.8],\n       [196. ,  48.9,  73.7,  45.3],\n       [197. ,  77.8,  99.4,  95.7],\n       [198. ,  68. ,  71. ,  50.7],\n       [199. ,  42.2,  56.3,  11.1],\n       [200. ,  99. ,  59.2,  60.6],\n       [201. ,  85.6,  70.2,  26.5],\n       [202. ,  43.1,  47.1,  92.2],\n       [203. ,  80.8,  48.6,  18.1],\n       [204. ,  55.1,  58.8,  53.7],\n       [205. ,  39.3,  42.8,  10.1],\n       [206. ,  67.1,  53.8,  95.9],\n       [207. ,  10.4,  98.1,  76.8],\n       [208. ,  52.1,  97.5,  30.6],\n       [209. ,  77.8,  13.2,  61.8],\n       [210. ,  31. ,  96.2,  45.7],\n       [211. ,  72.2,  78.8,  77.7],\n       [212. ,  55.2,  77.8,  99.5],\n       [213. ,  59.8,  58.8,  57. ],\n       [214. ,  74.3,  67.5,  82.5],\n       [215. ,  42.6,  77.7,  45.9],\n       [216. ,  96.4,  85.8,  37.9],\n       [217. ,  57. ,  66.8,  26.8],\n       [218. ,  87.7,  54. ,  37. ],\n       [219. ,  63.9,  80. ,  29.8],\n       [220. ,  17.3,  87. ,  31.8],\n       [221. ,  43.7,  71.5,  89.2],\n       [222. ,  30.4,  59.8,  16.7],\n       [223. ,  11.6,  93.3,  30.2],\n       [224. ,  38.3,  85.6,  55.1],\n       [225. ,  86.6,  89.3,  25.4],\n       [226. ,  89.5,  35.3,  42.3],\n       [227. ,  25.8,  46.8,  26. ],\n       [228. ,  18.2,  43.4,  81.6],\n       [229. ,  86.9,  97.6,  90.9],\n       [230. ,  10.8,  95.7,  63.1],\n       [231. ,  91.8,  92. ,  10.7],\n       [232. ,  42.1,  65.8,  20.4],\n       [233. ,  55.7,  51.5,  11.7],\n       [234. ,  80.4,  49.9,  82.5],\n       [235. ,  46.9,  86.2,  75.6],\n       [236. ,  70. ,  69.8,  92.9],\n       [237. ,  70.3,  18.7,  29.4],\n       [238. ,  16.3,  69.2,  33.2],\n       [239. ,  91.6,  39.9,  47.9],\n       [240. ,  18.8,  40. ,  22.5],\n       [241. ,  82.4,  80.1,  16.9],\n       [242. ,  89.3,  25.4,  44.1],\n       [243. ,  43.2,  45.6,  90.7],\n       [244. ,  70. ,  87.6,  70. ],\n       [245. ,  77. ,  16.1,  68.9],\n       [246. ,  25.5,  48.4,  44.3],\n       [247. ,  73. ,  31. ,  88.7],\n       [248. ,  79.1,  65.3,  98.4],\n       [249. ,  50.6,  65.7,  87. ],\n       [250. ,  41.6,  68.5,  94.2]])"
     },
     "execution_count": 139,
     "metadata": {},
     "output_type": "execute_result"
    }
   ],
   "source": [
    "filedata"
   ],
   "metadata": {
    "collapsed": false,
    "ExecuteTime": {
     "end_time": "2023-08-08T11:15:32.900875681Z",
     "start_time": "2023-08-08T11:15:32.785213153Z"
    }
   },
   "id": "4f7f5182395b96d4"
  },
  {
   "cell_type": "code",
   "execution_count": 144,
   "outputs": [
    {
     "data": {
      "text/plain": "250"
     },
     "execution_count": 144,
     "metadata": {},
     "output_type": "execute_result"
    }
   ],
   "source": [
    "filedata.shape[0]"
   ],
   "metadata": {
    "collapsed": false,
    "ExecuteTime": {
     "end_time": "2023-08-08T11:29:09.945319148Z",
     "start_time": "2023-08-08T11:29:09.899879026Z"
    }
   },
   "id": "750f290a0b8ebf0a"
  },
  {
   "cell_type": "code",
   "execution_count": 141,
   "outputs": [],
   "source": [],
   "metadata": {
    "collapsed": false,
    "ExecuteTime": {
     "end_time": "2023-08-08T11:23:39.004475384Z",
     "start_time": "2023-08-08T11:23:38.920021215Z"
    }
   },
   "id": "fe82c9af92972a05"
  },
  {
   "cell_type": "code",
   "execution_count": null,
   "outputs": [],
   "source": [],
   "metadata": {
    "collapsed": false
   },
   "id": "1be75898241651f1"
  }
 ],
 "metadata": {
  "kernelspec": {
   "display_name": "Python 3",
   "language": "python",
   "name": "python3"
  },
  "language_info": {
   "codemirror_mode": {
    "name": "ipython",
    "version": 2
   },
   "file_extension": ".py",
   "mimetype": "text/x-python",
   "name": "python",
   "nbconvert_exporter": "python",
   "pygments_lexer": "ipython2",
   "version": "2.7.6"
  }
 },
 "nbformat": 4,
 "nbformat_minor": 5
}
